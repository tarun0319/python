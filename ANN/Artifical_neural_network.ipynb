{
 "cells": [
  {
   "cell_type": "markdown",
   "metadata": {},
   "source": [
    "## Artificial Neural Network\n"
   ]
  },
  {
   "cell_type": "markdown",
   "metadata": {},
   "source": [
    "# Part 1 - Data Preprocessing"
   ]
  },
  {
   "cell_type": "code",
   "execution_count": 20,
   "metadata": {},
   "outputs": [],
   "source": [
    "# Importing the libraries\n",
    "import numpy as np\n",
    "import matplotlib.pyplot as plt\n",
    "import pandas as pd"
   ]
  },
  {
   "cell_type": "code",
   "execution_count": 21,
   "metadata": {},
   "outputs": [
    {
     "data": {
      "text/html": [
       "<div>\n",
       "<style scoped>\n",
       "    .dataframe tbody tr th:only-of-type {\n",
       "        vertical-align: middle;\n",
       "    }\n",
       "\n",
       "    .dataframe tbody tr th {\n",
       "        vertical-align: top;\n",
       "    }\n",
       "\n",
       "    .dataframe thead th {\n",
       "        text-align: right;\n",
       "    }\n",
       "</style>\n",
       "<table border=\"1\" class=\"dataframe\">\n",
       "  <thead>\n",
       "    <tr style=\"text-align: right;\">\n",
       "      <th></th>\n",
       "      <th>RowNumber</th>\n",
       "      <th>CustomerId</th>\n",
       "      <th>Surname</th>\n",
       "      <th>CreditScore</th>\n",
       "      <th>Geography</th>\n",
       "      <th>Gender</th>\n",
       "      <th>Age</th>\n",
       "      <th>Tenure</th>\n",
       "      <th>Balance</th>\n",
       "      <th>NumOfProducts</th>\n",
       "      <th>HasCrCard</th>\n",
       "      <th>IsActiveMember</th>\n",
       "      <th>EstimatedSalary</th>\n",
       "      <th>Exited</th>\n",
       "    </tr>\n",
       "  </thead>\n",
       "  <tbody>\n",
       "    <tr>\n",
       "      <th>0</th>\n",
       "      <td>1</td>\n",
       "      <td>15634602</td>\n",
       "      <td>Hargrave</td>\n",
       "      <td>619</td>\n",
       "      <td>France</td>\n",
       "      <td>Female</td>\n",
       "      <td>42</td>\n",
       "      <td>2</td>\n",
       "      <td>0.00</td>\n",
       "      <td>1</td>\n",
       "      <td>1</td>\n",
       "      <td>1</td>\n",
       "      <td>101348.88</td>\n",
       "      <td>1</td>\n",
       "    </tr>\n",
       "    <tr>\n",
       "      <th>1</th>\n",
       "      <td>2</td>\n",
       "      <td>15647311</td>\n",
       "      <td>Hill</td>\n",
       "      <td>608</td>\n",
       "      <td>Spain</td>\n",
       "      <td>Female</td>\n",
       "      <td>41</td>\n",
       "      <td>1</td>\n",
       "      <td>83807.86</td>\n",
       "      <td>1</td>\n",
       "      <td>0</td>\n",
       "      <td>1</td>\n",
       "      <td>112542.58</td>\n",
       "      <td>0</td>\n",
       "    </tr>\n",
       "    <tr>\n",
       "      <th>2</th>\n",
       "      <td>3</td>\n",
       "      <td>15619304</td>\n",
       "      <td>Onio</td>\n",
       "      <td>502</td>\n",
       "      <td>France</td>\n",
       "      <td>Female</td>\n",
       "      <td>42</td>\n",
       "      <td>8</td>\n",
       "      <td>159660.80</td>\n",
       "      <td>3</td>\n",
       "      <td>1</td>\n",
       "      <td>0</td>\n",
       "      <td>113931.57</td>\n",
       "      <td>1</td>\n",
       "    </tr>\n",
       "    <tr>\n",
       "      <th>3</th>\n",
       "      <td>4</td>\n",
       "      <td>15701354</td>\n",
       "      <td>Boni</td>\n",
       "      <td>699</td>\n",
       "      <td>France</td>\n",
       "      <td>Female</td>\n",
       "      <td>39</td>\n",
       "      <td>1</td>\n",
       "      <td>0.00</td>\n",
       "      <td>2</td>\n",
       "      <td>0</td>\n",
       "      <td>0</td>\n",
       "      <td>93826.63</td>\n",
       "      <td>0</td>\n",
       "    </tr>\n",
       "    <tr>\n",
       "      <th>4</th>\n",
       "      <td>5</td>\n",
       "      <td>15737888</td>\n",
       "      <td>Mitchell</td>\n",
       "      <td>850</td>\n",
       "      <td>Spain</td>\n",
       "      <td>Female</td>\n",
       "      <td>43</td>\n",
       "      <td>2</td>\n",
       "      <td>125510.82</td>\n",
       "      <td>1</td>\n",
       "      <td>1</td>\n",
       "      <td>1</td>\n",
       "      <td>79084.10</td>\n",
       "      <td>0</td>\n",
       "    </tr>\n",
       "  </tbody>\n",
       "</table>\n",
       "</div>"
      ],
      "text/plain": [
       "   RowNumber  CustomerId   Surname  CreditScore Geography  Gender  Age  \\\n",
       "0          1    15634602  Hargrave          619    France  Female   42   \n",
       "1          2    15647311      Hill          608     Spain  Female   41   \n",
       "2          3    15619304      Onio          502    France  Female   42   \n",
       "3          4    15701354      Boni          699    France  Female   39   \n",
       "4          5    15737888  Mitchell          850     Spain  Female   43   \n",
       "\n",
       "   Tenure    Balance  NumOfProducts  HasCrCard  IsActiveMember  \\\n",
       "0       2       0.00              1          1               1   \n",
       "1       1   83807.86              1          0               1   \n",
       "2       8  159660.80              3          1               0   \n",
       "3       1       0.00              2          0               0   \n",
       "4       2  125510.82              1          1               1   \n",
       "\n",
       "   EstimatedSalary  Exited  \n",
       "0        101348.88       1  \n",
       "1        112542.58       0  \n",
       "2        113931.57       1  \n",
       "3         93826.63       0  \n",
       "4         79084.10       0  "
      ]
     },
     "execution_count": 21,
     "metadata": {},
     "output_type": "execute_result"
    }
   ],
   "source": [
    "# Importing the dataset\n",
    "dataset = pd.read_csv('Churn_Modelling.csv')\n",
    "dataset.head()"
   ]
  },
  {
   "cell_type": "code",
   "execution_count": 22,
   "metadata": {},
   "outputs": [],
   "source": [
    "X = dataset.iloc[:, 3:13]\n",
    "y = dataset.iloc[:, 13]\n"
   ]
  },
  {
   "cell_type": "code",
   "execution_count": 23,
   "metadata": {},
   "outputs": [
    {
     "data": {
      "text/html": [
       "<div>\n",
       "<style scoped>\n",
       "    .dataframe tbody tr th:only-of-type {\n",
       "        vertical-align: middle;\n",
       "    }\n",
       "\n",
       "    .dataframe tbody tr th {\n",
       "        vertical-align: top;\n",
       "    }\n",
       "\n",
       "    .dataframe thead th {\n",
       "        text-align: right;\n",
       "    }\n",
       "</style>\n",
       "<table border=\"1\" class=\"dataframe\">\n",
       "  <thead>\n",
       "    <tr style=\"text-align: right;\">\n",
       "      <th></th>\n",
       "      <th>CreditScore</th>\n",
       "      <th>Geography</th>\n",
       "      <th>Gender</th>\n",
       "      <th>Age</th>\n",
       "      <th>Tenure</th>\n",
       "      <th>Balance</th>\n",
       "      <th>NumOfProducts</th>\n",
       "      <th>HasCrCard</th>\n",
       "      <th>IsActiveMember</th>\n",
       "      <th>EstimatedSalary</th>\n",
       "    </tr>\n",
       "  </thead>\n",
       "  <tbody>\n",
       "    <tr>\n",
       "      <th>0</th>\n",
       "      <td>619</td>\n",
       "      <td>France</td>\n",
       "      <td>Female</td>\n",
       "      <td>42</td>\n",
       "      <td>2</td>\n",
       "      <td>0.00</td>\n",
       "      <td>1</td>\n",
       "      <td>1</td>\n",
       "      <td>1</td>\n",
       "      <td>101348.88</td>\n",
       "    </tr>\n",
       "    <tr>\n",
       "      <th>1</th>\n",
       "      <td>608</td>\n",
       "      <td>Spain</td>\n",
       "      <td>Female</td>\n",
       "      <td>41</td>\n",
       "      <td>1</td>\n",
       "      <td>83807.86</td>\n",
       "      <td>1</td>\n",
       "      <td>0</td>\n",
       "      <td>1</td>\n",
       "      <td>112542.58</td>\n",
       "    </tr>\n",
       "    <tr>\n",
       "      <th>2</th>\n",
       "      <td>502</td>\n",
       "      <td>France</td>\n",
       "      <td>Female</td>\n",
       "      <td>42</td>\n",
       "      <td>8</td>\n",
       "      <td>159660.80</td>\n",
       "      <td>3</td>\n",
       "      <td>1</td>\n",
       "      <td>0</td>\n",
       "      <td>113931.57</td>\n",
       "    </tr>\n",
       "    <tr>\n",
       "      <th>3</th>\n",
       "      <td>699</td>\n",
       "      <td>France</td>\n",
       "      <td>Female</td>\n",
       "      <td>39</td>\n",
       "      <td>1</td>\n",
       "      <td>0.00</td>\n",
       "      <td>2</td>\n",
       "      <td>0</td>\n",
       "      <td>0</td>\n",
       "      <td>93826.63</td>\n",
       "    </tr>\n",
       "    <tr>\n",
       "      <th>4</th>\n",
       "      <td>850</td>\n",
       "      <td>Spain</td>\n",
       "      <td>Female</td>\n",
       "      <td>43</td>\n",
       "      <td>2</td>\n",
       "      <td>125510.82</td>\n",
       "      <td>1</td>\n",
       "      <td>1</td>\n",
       "      <td>1</td>\n",
       "      <td>79084.10</td>\n",
       "    </tr>\n",
       "  </tbody>\n",
       "</table>\n",
       "</div>"
      ],
      "text/plain": [
       "   CreditScore Geography  Gender  Age  Tenure    Balance  NumOfProducts  \\\n",
       "0          619    France  Female   42       2       0.00              1   \n",
       "1          608     Spain  Female   41       1   83807.86              1   \n",
       "2          502    France  Female   42       8  159660.80              3   \n",
       "3          699    France  Female   39       1       0.00              2   \n",
       "4          850     Spain  Female   43       2  125510.82              1   \n",
       "\n",
       "   HasCrCard  IsActiveMember  EstimatedSalary  \n",
       "0          1               1        101348.88  \n",
       "1          0               1        112542.58  \n",
       "2          1               0        113931.57  \n",
       "3          0               0         93826.63  \n",
       "4          1               1         79084.10  "
      ]
     },
     "execution_count": 23,
     "metadata": {},
     "output_type": "execute_result"
    }
   ],
   "source": [
    "X.head()"
   ]
  },
  {
   "cell_type": "code",
   "execution_count": 24,
   "metadata": {},
   "outputs": [
    {
     "data": {
      "text/plain": [
       "0    1\n",
       "1    0\n",
       "2    1\n",
       "3    0\n",
       "4    0\n",
       "Name: Exited, dtype: int64"
      ]
     },
     "execution_count": 24,
     "metadata": {},
     "output_type": "execute_result"
    }
   ],
   "source": [
    "y.head()"
   ]
  },
  {
   "cell_type": "code",
   "execution_count": 25,
   "metadata": {},
   "outputs": [],
   "source": [
    "#Create dummy variables\n",
    "geography=pd.get_dummies(X[\"Geography\"],drop_first=True)\n",
    "gender=pd.get_dummies(X['Gender'],drop_first=True)"
   ]
  },
  {
   "cell_type": "code",
   "execution_count": 26,
   "metadata": {},
   "outputs": [],
   "source": [
    "## Concatenate the Data Frames\n",
    "\n",
    "X=pd.concat([X,geography,gender],axis=1)"
   ]
  },
  {
   "cell_type": "code",
   "execution_count": 27,
   "metadata": {},
   "outputs": [],
   "source": [
    "## Drop Unnecessary columns\n",
    "X=X.drop(['Geography','Gender'],axis=1)\n"
   ]
  },
  {
   "cell_type": "code",
   "execution_count": 28,
   "metadata": {},
   "outputs": [],
   "source": [
    "# Splitting the dataset into the Training set and Test set\n",
    "from sklearn.model_selection import train_test_split\n",
    "X_train, X_test, y_train, y_test = train_test_split(X, y, test_size = 0.2, random_state = 0)"
   ]
  },
  {
   "cell_type": "code",
   "execution_count": 29,
   "metadata": {},
   "outputs": [
    {
     "name": "stderr",
     "output_type": "stream",
     "text": [
      "C:\\ProgramData\\Anaconda3\\lib\\site-packages\\sklearn\\preprocessing\\data.py:645: DataConversionWarning: Data with input dtype uint8, int64, float64 were all converted to float64 by StandardScaler.\n",
      "  return self.partial_fit(X, y)\n",
      "C:\\ProgramData\\Anaconda3\\lib\\site-packages\\sklearn\\base.py:464: DataConversionWarning: Data with input dtype uint8, int64, float64 were all converted to float64 by StandardScaler.\n",
      "  return self.fit(X, **fit_params).transform(X)\n",
      "C:\\ProgramData\\Anaconda3\\lib\\site-packages\\ipykernel_launcher.py:5: DataConversionWarning: Data with input dtype uint8, int64, float64 were all converted to float64 by StandardScaler.\n",
      "  \"\"\"\n"
     ]
    }
   ],
   "source": [
    "# Feature Scaling\n",
    "from sklearn.preprocessing import StandardScaler\n",
    "sc = StandardScaler()\n",
    "X_train = sc.fit_transform(X_train)\n",
    "X_test = sc.transform(X_test)"
   ]
  },
  {
   "cell_type": "markdown",
   "metadata": {},
   "source": [
    "# Part 2 - Now let's make the ANN!\n"
   ]
  },
  {
   "cell_type": "code",
   "execution_count": 30,
   "metadata": {},
   "outputs": [],
   "source": [
    "# Importing the Keras libraries and packages\n",
    "import keras\n",
    "from keras.models import Sequential\n",
    "from keras.layers import Dense\n",
    "from keras.layers import LeakyReLU,PReLU,ELU\n",
    "from keras.layers import Dropout\n"
   ]
  },
  {
   "cell_type": "code",
   "execution_count": 31,
   "metadata": {},
   "outputs": [],
   "source": [
    "# Initialising the ANN\n",
    "classifier = Sequential()"
   ]
  },
  {
   "cell_type": "code",
   "execution_count": 32,
   "metadata": {},
   "outputs": [
    {
     "name": "stderr",
     "output_type": "stream",
     "text": [
      "C:\\ProgramData\\Anaconda3\\lib\\site-packages\\ipykernel_launcher.py:2: UserWarning: Update your `Dense` call to the Keras 2 API: `Dense(activation=\"relu\", input_dim=11, units=6, kernel_initializer=\"he_uniform\")`\n",
      "  \n"
     ]
    }
   ],
   "source": [
    "# Adding the input layer and the first hidden layer\n",
    "classifier.add(Dense(output_dim = 6, init = 'he_uniform',activation='relu',input_dim = 11))\n"
   ]
  },
  {
   "cell_type": "code",
   "execution_count": 33,
   "metadata": {},
   "outputs": [
    {
     "name": "stderr",
     "output_type": "stream",
     "text": [
      "C:\\ProgramData\\Anaconda3\\lib\\site-packages\\ipykernel_launcher.py:2: UserWarning: Update your `Dense` call to the Keras 2 API: `Dense(activation=\"relu\", units=6, kernel_initializer=\"he_uniform\")`\n",
      "  \n"
     ]
    }
   ],
   "source": [
    "# Adding the second hidden layer\n",
    "classifier.add(Dense(output_dim = 6, init = 'he_uniform',activation='relu'))"
   ]
  },
  {
   "cell_type": "code",
   "execution_count": 34,
   "metadata": {},
   "outputs": [
    {
     "name": "stderr",
     "output_type": "stream",
     "text": [
      "C:\\ProgramData\\Anaconda3\\lib\\site-packages\\ipykernel_launcher.py:2: UserWarning: Update your `Dense` call to the Keras 2 API: `Dense(activation=\"sigmoid\", units=1, kernel_initializer=\"glorot_uniform\")`\n",
      "  \n"
     ]
    }
   ],
   "source": [
    "# Adding the output layer\n",
    "classifier.add(Dense(output_dim = 1, init = 'glorot_uniform', activation = 'sigmoid'))"
   ]
  },
  {
   "cell_type": "code",
   "execution_count": 35,
   "metadata": {},
   "outputs": [],
   "source": [
    "# Compiling the ANN\n",
    "classifier.compile(optimizer = 'Adamax', loss = 'binary_crossentropy', metrics = ['accuracy'])"
   ]
  },
  {
   "cell_type": "code",
   "execution_count": 36,
   "metadata": {},
   "outputs": [
    {
     "name": "stderr",
     "output_type": "stream",
     "text": [
      "C:\\ProgramData\\Anaconda3\\lib\\site-packages\\ipykernel_launcher.py:2: UserWarning: The `nb_epoch` argument in `fit` has been renamed `epochs`.\n",
      "  \n"
     ]
    },
    {
     "name": "stdout",
     "output_type": "stream",
     "text": [
      "Train on 5359 samples, validate on 2641 samples\n",
      "Epoch 1/100\n",
      "5359/5359 [==============================] - 2s 282us/step - loss: 0.6155 - accuracy: 0.7080 - val_loss: 0.5152 - val_accuracy: 0.7895\n",
      "Epoch 2/100\n",
      "5359/5359 [==============================] - 1s 248us/step - loss: 0.4987 - accuracy: 0.7944 - val_loss: 0.4873 - val_accuracy: 0.7952\n",
      "Epoch 3/100\n",
      "5359/5359 [==============================] - 1s 246us/step - loss: 0.4782 - accuracy: 0.7959 - val_loss: 0.4720 - val_accuracy: 0.7955\n",
      "Epoch 4/100\n",
      "5359/5359 [==============================] - 1s 247us/step - loss: 0.4646 - accuracy: 0.7960 - val_loss: 0.4614 - val_accuracy: 0.7955\n",
      "Epoch 5/100\n",
      "5359/5359 [==============================] - 1s 248us/step - loss: 0.4547 - accuracy: 0.7960 - val_loss: 0.4539 - val_accuracy: 0.7955\n",
      "Epoch 6/100\n",
      "5359/5359 [==============================] - 1s 247us/step - loss: 0.4468 - accuracy: 0.7960 - val_loss: 0.4473 - val_accuracy: 0.7955\n",
      "Epoch 7/100\n",
      "5359/5359 [==============================] - 1s 246us/step - loss: 0.4401 - accuracy: 0.7964 - val_loss: 0.4412 - val_accuracy: 0.7967\n",
      "Epoch 8/100\n",
      "5359/5359 [==============================] - 1s 247us/step - loss: 0.4324 - accuracy: 0.7996 - val_loss: 0.4342 - val_accuracy: 0.7993\n",
      "Epoch 9/100\n",
      "5359/5359 [==============================] - 1s 245us/step - loss: 0.4227 - accuracy: 0.8037 - val_loss: 0.4247 - val_accuracy: 0.8020\n",
      "Epoch 10/100\n",
      "5359/5359 [==============================] - 1s 240us/step - loss: 0.4111 - accuracy: 0.8110 - val_loss: 0.4143 - val_accuracy: 0.8069\n",
      "Epoch 11/100\n",
      "5359/5359 [==============================] - 1s 248us/step - loss: 0.3997 - accuracy: 0.8169 - val_loss: 0.4048 - val_accuracy: 0.8160\n",
      "Epoch 12/100\n",
      "5359/5359 [==============================] - 1s 246us/step - loss: 0.3904 - accuracy: 0.8259 - val_loss: 0.3978 - val_accuracy: 0.8183\n",
      "Epoch 13/100\n",
      "5359/5359 [==============================] - 1s 247us/step - loss: 0.3826 - accuracy: 0.8324 - val_loss: 0.3930 - val_accuracy: 0.8239\n",
      "Epoch 14/100\n",
      "5359/5359 [==============================] - 2s 357us/step - loss: 0.3777 - accuracy: 0.8332 - val_loss: 0.3900 - val_accuracy: 0.8258\n",
      "Epoch 15/100\n",
      "5359/5359 [==============================] - 2s 297us/step - loss: 0.3744 - accuracy: 0.8364 - val_loss: 0.3881 - val_accuracy: 0.8270\n",
      "Epoch 16/100\n",
      "5359/5359 [==============================] - 1s 274us/step - loss: 0.3717 - accuracy: 0.8401 - val_loss: 0.3866 - val_accuracy: 0.8277\n",
      "Epoch 17/100\n",
      "5359/5359 [==============================] - 1s 254us/step - loss: 0.3697 - accuracy: 0.8406 - val_loss: 0.3853 - val_accuracy: 0.8296\n",
      "Epoch 18/100\n",
      "5359/5359 [==============================] - 1s 250us/step - loss: 0.3679 - accuracy: 0.8416 - val_loss: 0.3840 - val_accuracy: 0.8315\n",
      "Epoch 19/100\n",
      "5359/5359 [==============================] - 1s 247us/step - loss: 0.3661 - accuracy: 0.8408 - val_loss: 0.3828 - val_accuracy: 0.8330\n",
      "Epoch 20/100\n",
      "5359/5359 [==============================] - 1s 245us/step - loss: 0.3646 - accuracy: 0.8438 - val_loss: 0.3821 - val_accuracy: 0.8353\n",
      "Epoch 21/100\n",
      "5359/5359 [==============================] - 1s 249us/step - loss: 0.3633 - accuracy: 0.8451 - val_loss: 0.3804 - val_accuracy: 0.8353\n",
      "Epoch 22/100\n",
      "5359/5359 [==============================] - 1s 246us/step - loss: 0.3616 - accuracy: 0.8444 - val_loss: 0.3788 - val_accuracy: 0.8368\n",
      "Epoch 23/100\n",
      "5359/5359 [==============================] - 1s 251us/step - loss: 0.3600 - accuracy: 0.8494 - val_loss: 0.3781 - val_accuracy: 0.8402\n",
      "Epoch 24/100\n",
      "5359/5359 [==============================] - 1s 251us/step - loss: 0.3587 - accuracy: 0.8489 - val_loss: 0.3762 - val_accuracy: 0.8387\n",
      "Epoch 25/100\n",
      "5359/5359 [==============================] - 1s 255us/step - loss: 0.3576 - accuracy: 0.8483 - val_loss: 0.3756 - val_accuracy: 0.8429\n",
      "Epoch 26/100\n",
      "5359/5359 [==============================] - 1s 249us/step - loss: 0.3564 - accuracy: 0.8494 - val_loss: 0.3744 - val_accuracy: 0.8436\n",
      "Epoch 27/100\n",
      "5359/5359 [==============================] - 1s 251us/step - loss: 0.3549 - accuracy: 0.8498 - val_loss: 0.3734 - val_accuracy: 0.8432\n",
      "Epoch 28/100\n",
      "5359/5359 [==============================] - 1s 250us/step - loss: 0.3539 - accuracy: 0.8500 - val_loss: 0.3725 - val_accuracy: 0.8436\n",
      "Epoch 29/100\n",
      "5359/5359 [==============================] - 1s 247us/step - loss: 0.3527 - accuracy: 0.8507 - val_loss: 0.3710 - val_accuracy: 0.8455\n",
      "Epoch 30/100\n",
      "5359/5359 [==============================] - 1s 251us/step - loss: 0.3517 - accuracy: 0.8530 - val_loss: 0.3699 - val_accuracy: 0.8459\n",
      "Epoch 31/100\n",
      "5359/5359 [==============================] - 1s 245us/step - loss: 0.3506 - accuracy: 0.8531 - val_loss: 0.3688 - val_accuracy: 0.8455\n",
      "Epoch 32/100\n",
      "5359/5359 [==============================] - 1s 247us/step - loss: 0.3497 - accuracy: 0.8539 - val_loss: 0.3679 - val_accuracy: 0.8466\n",
      "Epoch 33/100\n",
      "5359/5359 [==============================] - 1s 246us/step - loss: 0.3488 - accuracy: 0.8543 - val_loss: 0.3671 - val_accuracy: 0.8470\n",
      "Epoch 34/100\n",
      "5359/5359 [==============================] - 1s 246us/step - loss: 0.3477 - accuracy: 0.8546 - val_loss: 0.3661 - val_accuracy: 0.8485\n",
      "Epoch 35/100\n",
      "5359/5359 [==============================] - 1s 243us/step - loss: 0.3467 - accuracy: 0.8545 - val_loss: 0.3653 - val_accuracy: 0.8493\n",
      "Epoch 36/100\n",
      "5359/5359 [==============================] - 1s 240us/step - loss: 0.3457 - accuracy: 0.8561 - val_loss: 0.3646 - val_accuracy: 0.8501\n",
      "Epoch 37/100\n",
      "5359/5359 [==============================] - 1s 241us/step - loss: 0.3447 - accuracy: 0.8558 - val_loss: 0.3637 - val_accuracy: 0.8512\n",
      "Epoch 38/100\n",
      "5359/5359 [==============================] - 1s 240us/step - loss: 0.3440 - accuracy: 0.8558 - val_loss: 0.3630 - val_accuracy: 0.8508\n",
      "Epoch 39/100\n",
      "5359/5359 [==============================] - 1s 238us/step - loss: 0.3429 - accuracy: 0.8572 - val_loss: 0.3630 - val_accuracy: 0.8531\n",
      "Epoch 40/100\n",
      "5359/5359 [==============================] - 1s 242us/step - loss: 0.3425 - accuracy: 0.8580 - val_loss: 0.3619 - val_accuracy: 0.8542\n",
      "Epoch 41/100\n",
      "5359/5359 [==============================] - 1s 244us/step - loss: 0.3416 - accuracy: 0.8576 - val_loss: 0.3611 - val_accuracy: 0.8519\n",
      "Epoch 42/100\n",
      "5359/5359 [==============================] - 1s 246us/step - loss: 0.3407 - accuracy: 0.8574 - val_loss: 0.3612 - val_accuracy: 0.8535\n",
      "Epoch 43/100\n",
      "5359/5359 [==============================] - 1s 249us/step - loss: 0.3402 - accuracy: 0.8569 - val_loss: 0.3604 - val_accuracy: 0.8527\n",
      "Epoch 44/100\n",
      "5359/5359 [==============================] - 2s 346us/step - loss: 0.3398 - accuracy: 0.8586 - val_loss: 0.3602 - val_accuracy: 0.8535\n",
      "Epoch 45/100\n",
      "5359/5359 [==============================] - 1s 263us/step - loss: 0.3390 - accuracy: 0.8591 - val_loss: 0.3597 - val_accuracy: 0.8519\n",
      "Epoch 46/100\n",
      "5359/5359 [==============================] - 1s 262us/step - loss: 0.3384 - accuracy: 0.8593 - val_loss: 0.3596 - val_accuracy: 0.8535\n",
      "Epoch 47/100\n",
      "5359/5359 [==============================] - 1s 258us/step - loss: 0.3379 - accuracy: 0.8595 - val_loss: 0.3590 - val_accuracy: 0.8535\n",
      "Epoch 48/100\n",
      "5359/5359 [==============================] - 1s 246us/step - loss: 0.3376 - accuracy: 0.8587 - val_loss: 0.3587 - val_accuracy: 0.8538\n",
      "Epoch 49/100\n",
      "5359/5359 [==============================] - 1s 260us/step - loss: 0.3370 - accuracy: 0.8574 - val_loss: 0.3589 - val_accuracy: 0.8554\n",
      "Epoch 50/100\n",
      "5359/5359 [==============================] - 1s 260us/step - loss: 0.3364 - accuracy: 0.8599 - val_loss: 0.3581 - val_accuracy: 0.8561\n",
      "Epoch 51/100\n",
      "5359/5359 [==============================] - 1s 253us/step - loss: 0.3360 - accuracy: 0.8584 - val_loss: 0.3579 - val_accuracy: 0.8561\n",
      "Epoch 52/100\n",
      "5359/5359 [==============================] - 2s 287us/step - loss: 0.3352 - accuracy: 0.8602 - val_loss: 0.3592 - val_accuracy: 0.8569\n",
      "Epoch 53/100\n",
      "5359/5359 [==============================] - 2s 322us/step - loss: 0.3353 - accuracy: 0.8597 - val_loss: 0.3569 - val_accuracy: 0.8535\n",
      "Epoch 54/100\n",
      "5359/5359 [==============================] - 1s 256us/step - loss: 0.3347 - accuracy: 0.8584 - val_loss: 0.3572 - val_accuracy: 0.8561\n",
      "Epoch 55/100\n",
      "5359/5359 [==============================] - 1s 247us/step - loss: 0.3342 - accuracy: 0.8595 - val_loss: 0.3566 - val_accuracy: 0.8546\n",
      "Epoch 56/100\n"
     ]
    },
    {
     "name": "stdout",
     "output_type": "stream",
     "text": [
      "5359/5359 [==============================] - 1s 251us/step - loss: 0.3339 - accuracy: 0.8593 - val_loss: 0.3562 - val_accuracy: 0.8538\n",
      "Epoch 57/100\n",
      "5359/5359 [==============================] - 1s 254us/step - loss: 0.3334 - accuracy: 0.8600 - val_loss: 0.3561 - val_accuracy: 0.8561\n",
      "Epoch 58/100\n",
      "5359/5359 [==============================] - 1s 256us/step - loss: 0.3332 - accuracy: 0.8602 - val_loss: 0.3561 - val_accuracy: 0.8550\n",
      "Epoch 59/100\n",
      "5359/5359 [==============================] - 1s 257us/step - loss: 0.3328 - accuracy: 0.8599 - val_loss: 0.3569 - val_accuracy: 0.8557\n",
      "Epoch 60/100\n",
      "5359/5359 [==============================] - 1s 254us/step - loss: 0.3325 - accuracy: 0.8599 - val_loss: 0.3563 - val_accuracy: 0.8569\n",
      "Epoch 61/100\n",
      "5359/5359 [==============================] - 1s 250us/step - loss: 0.3320 - accuracy: 0.8591 - val_loss: 0.3561 - val_accuracy: 0.8561\n",
      "Epoch 62/100\n",
      "5359/5359 [==============================] - 1s 251us/step - loss: 0.3319 - accuracy: 0.8615 - val_loss: 0.3560 - val_accuracy: 0.8550\n",
      "Epoch 63/100\n",
      "5359/5359 [==============================] - 1s 250us/step - loss: 0.3315 - accuracy: 0.8615 - val_loss: 0.3561 - val_accuracy: 0.8576\n",
      "Epoch 64/100\n",
      "5359/5359 [==============================] - 1s 253us/step - loss: 0.3311 - accuracy: 0.8593 - val_loss: 0.3563 - val_accuracy: 0.8535\n",
      "Epoch 65/100\n",
      "5359/5359 [==============================] - 1s 250us/step - loss: 0.3308 - accuracy: 0.8625 - val_loss: 0.3561 - val_accuracy: 0.8554\n",
      "Epoch 66/100\n",
      "5359/5359 [==============================] - 1s 249us/step - loss: 0.3308 - accuracy: 0.8619 - val_loss: 0.3558 - val_accuracy: 0.8538\n",
      "Epoch 67/100\n",
      "5359/5359 [==============================] - 1s 254us/step - loss: 0.3302 - accuracy: 0.8615 - val_loss: 0.3566 - val_accuracy: 0.8523\n",
      "Epoch 68/100\n",
      "5359/5359 [==============================] - 1s 248us/step - loss: 0.3300 - accuracy: 0.8614 - val_loss: 0.3561 - val_accuracy: 0.8531\n",
      "Epoch 69/100\n",
      "5359/5359 [==============================] - 1s 245us/step - loss: 0.3300 - accuracy: 0.8638 - val_loss: 0.3555 - val_accuracy: 0.8557\n",
      "Epoch 70/100\n",
      "5359/5359 [==============================] - 1s 244us/step - loss: 0.3294 - accuracy: 0.8623 - val_loss: 0.3565 - val_accuracy: 0.8516\n",
      "Epoch 71/100\n",
      "5359/5359 [==============================] - 1s 247us/step - loss: 0.3295 - accuracy: 0.8623 - val_loss: 0.3555 - val_accuracy: 0.8538\n",
      "Epoch 72/100\n",
      "5359/5359 [==============================] - 1s 245us/step - loss: 0.3292 - accuracy: 0.8628 - val_loss: 0.3556 - val_accuracy: 0.8554\n",
      "Epoch 73/100\n",
      "5359/5359 [==============================] - 1s 244us/step - loss: 0.3290 - accuracy: 0.8614 - val_loss: 0.3553 - val_accuracy: 0.8554\n",
      "Epoch 74/100\n",
      "5359/5359 [==============================] - 1s 243us/step - loss: 0.3287 - accuracy: 0.8632 - val_loss: 0.3554 - val_accuracy: 0.8554\n",
      "Epoch 75/100\n",
      "5359/5359 [==============================] - 1s 243us/step - loss: 0.3287 - accuracy: 0.8628 - val_loss: 0.3550 - val_accuracy: 0.8580\n",
      "Epoch 76/100\n",
      "5359/5359 [==============================] - 1s 249us/step - loss: 0.3286 - accuracy: 0.8632 - val_loss: 0.3550 - val_accuracy: 0.8550\n",
      "Epoch 77/100\n",
      "5359/5359 [==============================] - 1s 243us/step - loss: 0.3284 - accuracy: 0.8628 - val_loss: 0.3552 - val_accuracy: 0.8554\n",
      "Epoch 78/100\n",
      "5359/5359 [==============================] - 1s 254us/step - loss: 0.3282 - accuracy: 0.8636 - val_loss: 0.3554 - val_accuracy: 0.8538\n",
      "Epoch 79/100\n",
      "5359/5359 [==============================] - 2s 281us/step - loss: 0.3279 - accuracy: 0.8630 - val_loss: 0.3558 - val_accuracy: 0.8565\n",
      "Epoch 80/100\n",
      "5359/5359 [==============================] - 1s 255us/step - loss: 0.3278 - accuracy: 0.8621 - val_loss: 0.3549 - val_accuracy: 0.8565\n",
      "Epoch 81/100\n",
      "5359/5359 [==============================] - 1s 251us/step - loss: 0.3277 - accuracy: 0.8640 - val_loss: 0.3553 - val_accuracy: 0.8561\n",
      "Epoch 82/100\n",
      "5359/5359 [==============================] - 1s 251us/step - loss: 0.3276 - accuracy: 0.8647 - val_loss: 0.3557 - val_accuracy: 0.8538\n",
      "Epoch 83/100\n",
      "5359/5359 [==============================] - 1s 245us/step - loss: 0.3274 - accuracy: 0.8632 - val_loss: 0.3553 - val_accuracy: 0.8561\n",
      "Epoch 84/100\n",
      "5359/5359 [==============================] - 1s 247us/step - loss: 0.3273 - accuracy: 0.8642 - val_loss: 0.3553 - val_accuracy: 0.8557\n",
      "Epoch 85/100\n",
      "5359/5359 [==============================] - 1s 244us/step - loss: 0.3275 - accuracy: 0.8647 - val_loss: 0.3550 - val_accuracy: 0.8557\n",
      "Epoch 86/100\n",
      "5359/5359 [==============================] - 1s 243us/step - loss: 0.3270 - accuracy: 0.8647 - val_loss: 0.3555 - val_accuracy: 0.8557\n",
      "Epoch 87/100\n",
      "5359/5359 [==============================] - 1s 244us/step - loss: 0.3268 - accuracy: 0.8647 - val_loss: 0.3559 - val_accuracy: 0.8550\n",
      "Epoch 88/100\n",
      "5359/5359 [==============================] - 1s 240us/step - loss: 0.3269 - accuracy: 0.8623 - val_loss: 0.3546 - val_accuracy: 0.8557\n",
      "Epoch 89/100\n",
      "5359/5359 [==============================] - 1s 242us/step - loss: 0.3271 - accuracy: 0.8632 - val_loss: 0.3551 - val_accuracy: 0.8565\n",
      "Epoch 90/100\n",
      "5359/5359 [==============================] - 1s 245us/step - loss: 0.3266 - accuracy: 0.8640 - val_loss: 0.3557 - val_accuracy: 0.8554\n",
      "Epoch 91/100\n",
      "5359/5359 [==============================] - 1s 245us/step - loss: 0.3265 - accuracy: 0.8643 - val_loss: 0.3550 - val_accuracy: 0.8565\n",
      "Epoch 92/100\n",
      "5359/5359 [==============================] - 1s 244us/step - loss: 0.3262 - accuracy: 0.8642 - val_loss: 0.3555 - val_accuracy: 0.8576\n",
      "Epoch 93/100\n",
      "5359/5359 [==============================] - 1s 242us/step - loss: 0.3261 - accuracy: 0.8643 - val_loss: 0.3551 - val_accuracy: 0.8554\n",
      "Epoch 94/100\n",
      "5359/5359 [==============================] - 1s 243us/step - loss: 0.3263 - accuracy: 0.8634 - val_loss: 0.3547 - val_accuracy: 0.8573\n",
      "Epoch 95/100\n",
      "5359/5359 [==============================] - 1s 246us/step - loss: 0.3264 - accuracy: 0.8645 - val_loss: 0.3550 - val_accuracy: 0.8565\n",
      "Epoch 96/100\n",
      "5359/5359 [==============================] - 1s 239us/step - loss: 0.3262 - accuracy: 0.8649 - val_loss: 0.3546 - val_accuracy: 0.8557\n",
      "Epoch 97/100\n",
      "5359/5359 [==============================] - 1s 245us/step - loss: 0.3261 - accuracy: 0.8645 - val_loss: 0.3546 - val_accuracy: 0.8557\n",
      "Epoch 98/100\n",
      "5359/5359 [==============================] - 1s 234us/step - loss: 0.3255 - accuracy: 0.8662 - val_loss: 0.3555 - val_accuracy: 0.8542\n",
      "Epoch 99/100\n",
      "5359/5359 [==============================] - 1s 245us/step - loss: 0.3258 - accuracy: 0.8636 - val_loss: 0.3550 - val_accuracy: 0.8573\n",
      "Epoch 100/100\n",
      "5359/5359 [==============================] - 1s 241us/step - loss: 0.3258 - accuracy: 0.8660 - val_loss: 0.3557 - val_accuracy: 0.8569\n"
     ]
    }
   ],
   "source": [
    "# Fitting the ANN to the Training set\n",
    "model_history=classifier.fit(X_train, y_train,validation_split=0.33, batch_size = 10, nb_epoch = 100)"
   ]
  },
  {
   "cell_type": "code",
   "execution_count": 46,
   "metadata": {},
   "outputs": [
    {
     "data": {
      "image/png": "[encoded data removed]",
      "text/plain": [
       "<Figure size 432x288 with 1 Axes>"
      ]
     },
     "metadata": {
      "needs_background": "light"
     },
     "output_type": "display_data"
    }
   ],
   "source": [
    "# summarize history for loss\n",
    "plt.plot(model_history.history['loss'])\n",
    "plt.plot(model_history.history['val_loss'])\n",
    "plt.title('model loss')\n",
    "plt.ylabel('loss')\n",
    "plt.xlabel('epoch')\n",
    "plt.legend(['train', 'test'], loc='upper left')\n",
    "plt.show()"
   ]
  },
  {
   "cell_type": "markdown",
   "metadata": {},
   "source": [
    "# Part 3 - Making the predictions and evaluating the model\n"
   ]
  },
  {
   "cell_type": "code",
   "execution_count": 40,
   "metadata": {},
   "outputs": [],
   "source": [
    "# Predicting the Test set results\n",
    "y_pred = classifier.predict(X_test)\n",
    "y_pred = (y_pred > 0.5)"
   ]
  },
  {
   "cell_type": "code",
   "execution_count": 41,
   "metadata": {},
   "outputs": [],
   "source": [
    "# Making the Confusion Matrix\n",
    "from sklearn.metrics import confusion_matrix\n",
    "cm = confusion_matrix(y_test, y_pred)"
   ]
  },
  {
   "cell_type": "code",
   "execution_count": 42,
   "metadata": {},
   "outputs": [],
   "source": [
    "# Calculate the Accuracy\n",
    "from sklearn.metrics import accuracy_score\n",
    "score=accuracy_score(y_pred,y_test)\n"
   ]
  },
  {
   "cell_type": "code",
   "execution_count": 43,
   "metadata": {},
   "outputs": [
    {
     "data": {
      "text/plain": [
       "0.853"
      ]
     },
     "execution_count": 43,
     "metadata": {},
     "output_type": "execute_result"
    }
   ],
   "source": [
    "score"
   ]
  },
  {
   "cell_type": "code",
   "execution_count": null,
   "metadata": {},
   "outputs": [],
   "source": []
  }
 ],
 "metadata": {
  "kernelspec": {
   "display_name": "Python 3",
   "language": "python",
   "name": "python3"
  },
  "language_info": {
   "codemirror_mode": {
    "name": "ipython",
    "version": 3
   },
   "file_extension": ".py",
   "mimetype": "text/x-python",
   "name": "python",
   "nbconvert_exporter": "python",
   "pygments_lexer": "ipython3",
   "version": "3.7.3"
  }
 },
 "nbformat": 4,
 "nbformat_minor": 2
}
