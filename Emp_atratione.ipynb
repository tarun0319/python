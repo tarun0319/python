{
 "cells": [
  {
   "cell_type": "markdown",
   "metadata": {},
   "source": [
    "# IMPORT LIBRARY"
   ]
  },
  {
   "cell_type": "code",
   "execution_count": 1,
   "metadata": {},
   "outputs": [],
   "source": [
    "import pandas as pd\n",
    "import seaborn as sn\n",
    "import matplotlib.pyplot as plt"
   ]
  },
  {
   "cell_type": "markdown",
   "metadata": {},
   "source": [
    "# READ DATASET"
   ]
  },
  {
   "cell_type": "code",
   "execution_count": 2,
   "metadata": {},
   "outputs": [],
   "source": [
    "data = pd.read_csv('Employee_Performance-1.csv')"
   ]
  },
  {
   "cell_type": "code",
   "execution_count": 4,
   "metadata": {},
   "outputs": [
    {
     "data": {
      "text/html": [
       "<div>\n",
       "<style scoped>\n",
       "    .dataframe tbody tr th:only-of-type {\n",
       "        vertical-align: middle;\n",
       "    }\n",
       "\n",
       "    .dataframe tbody tr th {\n",
       "        vertical-align: top;\n",
       "    }\n",
       "\n",
       "    .dataframe thead th {\n",
       "        text-align: right;\n",
       "    }\n",
       "</style>\n",
       "<table border=\"1\" class=\"dataframe\">\n",
       "  <thead>\n",
       "    <tr style=\"text-align: right;\">\n",
       "      <th></th>\n",
       "      <th>EmpNumber</th>\n",
       "      <th>Age</th>\n",
       "      <th>Gender</th>\n",
       "      <th>EducationBackground</th>\n",
       "      <th>MaritalStatus</th>\n",
       "      <th>EmpDepartment</th>\n",
       "      <th>EmpJobRole</th>\n",
       "      <th>BusinessTravelFrequency</th>\n",
       "      <th>DistanceFromHome</th>\n",
       "      <th>EmpEducationLevel</th>\n",
       "      <th>...</th>\n",
       "      <th>EmpRelationshipSatisfaction</th>\n",
       "      <th>TotalWorkExperienceInYears</th>\n",
       "      <th>TrainingTimesLastYear</th>\n",
       "      <th>EmpWorkLifeBalance</th>\n",
       "      <th>ExperienceYearsAtThisCompany</th>\n",
       "      <th>ExperienceYearsInCurrentRole</th>\n",
       "      <th>YearsSinceLastPromotion</th>\n",
       "      <th>YearsWithCurrManager</th>\n",
       "      <th>Attrition</th>\n",
       "      <th>PerformanceRating</th>\n",
       "    </tr>\n",
       "  </thead>\n",
       "  <tbody>\n",
       "    <tr>\n",
       "      <th>0</th>\n",
       "      <td>E1001000</td>\n",
       "      <td>32</td>\n",
       "      <td>Male</td>\n",
       "      <td>Marketing</td>\n",
       "      <td>Single</td>\n",
       "      <td>Sales</td>\n",
       "      <td>Sales Executive</td>\n",
       "      <td>Travel_Rarely</td>\n",
       "      <td>10</td>\n",
       "      <td>3</td>\n",
       "      <td>...</td>\n",
       "      <td>4</td>\n",
       "      <td>10</td>\n",
       "      <td>2</td>\n",
       "      <td>2</td>\n",
       "      <td>10</td>\n",
       "      <td>7</td>\n",
       "      <td>0</td>\n",
       "      <td>8</td>\n",
       "      <td>No</td>\n",
       "      <td>3</td>\n",
       "    </tr>\n",
       "    <tr>\n",
       "      <th>1</th>\n",
       "      <td>E1001006</td>\n",
       "      <td>47</td>\n",
       "      <td>Male</td>\n",
       "      <td>Marketing</td>\n",
       "      <td>Single</td>\n",
       "      <td>Sales</td>\n",
       "      <td>Sales Executive</td>\n",
       "      <td>Travel_Rarely</td>\n",
       "      <td>14</td>\n",
       "      <td>4</td>\n",
       "      <td>...</td>\n",
       "      <td>4</td>\n",
       "      <td>20</td>\n",
       "      <td>2</td>\n",
       "      <td>3</td>\n",
       "      <td>7</td>\n",
       "      <td>7</td>\n",
       "      <td>1</td>\n",
       "      <td>7</td>\n",
       "      <td>No</td>\n",
       "      <td>3</td>\n",
       "    </tr>\n",
       "    <tr>\n",
       "      <th>2</th>\n",
       "      <td>E1001007</td>\n",
       "      <td>40</td>\n",
       "      <td>Male</td>\n",
       "      <td>Life Sciences</td>\n",
       "      <td>Married</td>\n",
       "      <td>Sales</td>\n",
       "      <td>Sales Executive</td>\n",
       "      <td>Travel_Frequently</td>\n",
       "      <td>5</td>\n",
       "      <td>4</td>\n",
       "      <td>...</td>\n",
       "      <td>3</td>\n",
       "      <td>20</td>\n",
       "      <td>2</td>\n",
       "      <td>3</td>\n",
       "      <td>18</td>\n",
       "      <td>13</td>\n",
       "      <td>1</td>\n",
       "      <td>12</td>\n",
       "      <td>No</td>\n",
       "      <td>4</td>\n",
       "    </tr>\n",
       "    <tr>\n",
       "      <th>3</th>\n",
       "      <td>E1001009</td>\n",
       "      <td>41</td>\n",
       "      <td>Male</td>\n",
       "      <td>Human Resources</td>\n",
       "      <td>Divorced</td>\n",
       "      <td>Human Resources</td>\n",
       "      <td>Manager</td>\n",
       "      <td>Travel_Rarely</td>\n",
       "      <td>10</td>\n",
       "      <td>4</td>\n",
       "      <td>...</td>\n",
       "      <td>2</td>\n",
       "      <td>23</td>\n",
       "      <td>2</td>\n",
       "      <td>2</td>\n",
       "      <td>21</td>\n",
       "      <td>6</td>\n",
       "      <td>12</td>\n",
       "      <td>6</td>\n",
       "      <td>No</td>\n",
       "      <td>3</td>\n",
       "    </tr>\n",
       "    <tr>\n",
       "      <th>4</th>\n",
       "      <td>E1001010</td>\n",
       "      <td>60</td>\n",
       "      <td>Male</td>\n",
       "      <td>Marketing</td>\n",
       "      <td>Single</td>\n",
       "      <td>Sales</td>\n",
       "      <td>Sales Executive</td>\n",
       "      <td>Travel_Rarely</td>\n",
       "      <td>16</td>\n",
       "      <td>4</td>\n",
       "      <td>...</td>\n",
       "      <td>4</td>\n",
       "      <td>10</td>\n",
       "      <td>1</td>\n",
       "      <td>3</td>\n",
       "      <td>2</td>\n",
       "      <td>2</td>\n",
       "      <td>2</td>\n",
       "      <td>2</td>\n",
       "      <td>No</td>\n",
       "      <td>3</td>\n",
       "    </tr>\n",
       "  </tbody>\n",
       "</table>\n",
       "<p>5 rows × 28 columns</p>\n",
       "</div>"
      ],
      "text/plain": [
       "  EmpNumber  Age Gender EducationBackground MaritalStatus    EmpDepartment  \\\n",
       "0  E1001000   32   Male           Marketing        Single            Sales   \n",
       "1  E1001006   47   Male           Marketing        Single            Sales   \n",
       "2  E1001007   40   Male       Life Sciences       Married            Sales   \n",
       "3  E1001009   41   Male     Human Resources      Divorced  Human Resources   \n",
       "4  E1001010   60   Male           Marketing        Single            Sales   \n",
       "\n",
       "        EmpJobRole BusinessTravelFrequency  DistanceFromHome  \\\n",
       "0  Sales Executive           Travel_Rarely                10   \n",
       "1  Sales Executive           Travel_Rarely                14   \n",
       "2  Sales Executive       Travel_Frequently                 5   \n",
       "3          Manager           Travel_Rarely                10   \n",
       "4  Sales Executive           Travel_Rarely                16   \n",
       "\n",
       "   EmpEducationLevel  ...  EmpRelationshipSatisfaction  \\\n",
       "0                  3  ...                            4   \n",
       "1                  4  ...                            4   \n",
       "2                  4  ...                            3   \n",
       "3                  4  ...                            2   \n",
       "4                  4  ...                            4   \n",
       "\n",
       "   TotalWorkExperienceInYears  TrainingTimesLastYear  EmpWorkLifeBalance  \\\n",
       "0                          10                      2                   2   \n",
       "1                          20                      2                   3   \n",
       "2                          20                      2                   3   \n",
       "3                          23                      2                   2   \n",
       "4                          10                      1                   3   \n",
       "\n",
       "   ExperienceYearsAtThisCompany  ExperienceYearsInCurrentRole  \\\n",
       "0                            10                             7   \n",
       "1                             7                             7   \n",
       "2                            18                            13   \n",
       "3                            21                             6   \n",
       "4                             2                             2   \n",
       "\n",
       "  YearsSinceLastPromotion  YearsWithCurrManager  Attrition  PerformanceRating  \n",
       "0                       0                     8         No                  3  \n",
       "1                       1                     7         No                  3  \n",
       "2                       1                    12         No                  4  \n",
       "3                      12                     6         No                  3  \n",
       "4                       2                     2         No                  3  \n",
       "\n",
       "[5 rows x 28 columns]"
      ]
     },
     "execution_count": 4,
     "metadata": {},
     "output_type": "execute_result"
    }
   ],
   "source": [
    "data.head()"
   ]
  },
  {
   "cell_type": "code",
   "execution_count": 5,
   "metadata": {},
   "outputs": [
    {
     "data": {
      "text/html": [
       "<div>\n",
       "<style scoped>\n",
       "    .dataframe tbody tr th:only-of-type {\n",
       "        vertical-align: middle;\n",
       "    }\n",
       "\n",
       "    .dataframe tbody tr th {\n",
       "        vertical-align: top;\n",
       "    }\n",
       "\n",
       "    .dataframe thead th {\n",
       "        text-align: right;\n",
       "    }\n",
       "</style>\n",
       "<table border=\"1\" class=\"dataframe\">\n",
       "  <thead>\n",
       "    <tr style=\"text-align: right;\">\n",
       "      <th></th>\n",
       "      <th>EmpNumber</th>\n",
       "      <th>Age</th>\n",
       "      <th>Gender</th>\n",
       "      <th>EducationBackground</th>\n",
       "      <th>MaritalStatus</th>\n",
       "      <th>EmpDepartment</th>\n",
       "      <th>EmpJobRole</th>\n",
       "      <th>BusinessTravelFrequency</th>\n",
       "      <th>DistanceFromHome</th>\n",
       "      <th>EmpEducationLevel</th>\n",
       "      <th>...</th>\n",
       "      <th>EmpRelationshipSatisfaction</th>\n",
       "      <th>TotalWorkExperienceInYears</th>\n",
       "      <th>TrainingTimesLastYear</th>\n",
       "      <th>EmpWorkLifeBalance</th>\n",
       "      <th>ExperienceYearsAtThisCompany</th>\n",
       "      <th>ExperienceYearsInCurrentRole</th>\n",
       "      <th>YearsSinceLastPromotion</th>\n",
       "      <th>YearsWithCurrManager</th>\n",
       "      <th>Attrition</th>\n",
       "      <th>PerformanceRating</th>\n",
       "    </tr>\n",
       "  </thead>\n",
       "  <tbody>\n",
       "    <tr>\n",
       "      <th>1195</th>\n",
       "      <td>E100992</td>\n",
       "      <td>27</td>\n",
       "      <td>Female</td>\n",
       "      <td>Medical</td>\n",
       "      <td>Divorced</td>\n",
       "      <td>Sales</td>\n",
       "      <td>Sales Executive</td>\n",
       "      <td>Travel_Frequently</td>\n",
       "      <td>3</td>\n",
       "      <td>1</td>\n",
       "      <td>...</td>\n",
       "      <td>2</td>\n",
       "      <td>6</td>\n",
       "      <td>3</td>\n",
       "      <td>3</td>\n",
       "      <td>6</td>\n",
       "      <td>5</td>\n",
       "      <td>0</td>\n",
       "      <td>4</td>\n",
       "      <td>No</td>\n",
       "      <td>4</td>\n",
       "    </tr>\n",
       "    <tr>\n",
       "      <th>1196</th>\n",
       "      <td>E100993</td>\n",
       "      <td>37</td>\n",
       "      <td>Male</td>\n",
       "      <td>Life Sciences</td>\n",
       "      <td>Single</td>\n",
       "      <td>Development</td>\n",
       "      <td>Senior Developer</td>\n",
       "      <td>Travel_Rarely</td>\n",
       "      <td>10</td>\n",
       "      <td>2</td>\n",
       "      <td>...</td>\n",
       "      <td>1</td>\n",
       "      <td>4</td>\n",
       "      <td>2</td>\n",
       "      <td>3</td>\n",
       "      <td>1</td>\n",
       "      <td>0</td>\n",
       "      <td>0</td>\n",
       "      <td>0</td>\n",
       "      <td>No</td>\n",
       "      <td>3</td>\n",
       "    </tr>\n",
       "    <tr>\n",
       "      <th>1197</th>\n",
       "      <td>E100994</td>\n",
       "      <td>50</td>\n",
       "      <td>Male</td>\n",
       "      <td>Medical</td>\n",
       "      <td>Married</td>\n",
       "      <td>Development</td>\n",
       "      <td>Senior Developer</td>\n",
       "      <td>Travel_Rarely</td>\n",
       "      <td>28</td>\n",
       "      <td>1</td>\n",
       "      <td>...</td>\n",
       "      <td>3</td>\n",
       "      <td>20</td>\n",
       "      <td>3</td>\n",
       "      <td>3</td>\n",
       "      <td>20</td>\n",
       "      <td>8</td>\n",
       "      <td>3</td>\n",
       "      <td>8</td>\n",
       "      <td>No</td>\n",
       "      <td>3</td>\n",
       "    </tr>\n",
       "    <tr>\n",
       "      <th>1198</th>\n",
       "      <td>E100995</td>\n",
       "      <td>34</td>\n",
       "      <td>Female</td>\n",
       "      <td>Medical</td>\n",
       "      <td>Single</td>\n",
       "      <td>Data Science</td>\n",
       "      <td>Data Scientist</td>\n",
       "      <td>Travel_Rarely</td>\n",
       "      <td>9</td>\n",
       "      <td>3</td>\n",
       "      <td>...</td>\n",
       "      <td>2</td>\n",
       "      <td>9</td>\n",
       "      <td>3</td>\n",
       "      <td>4</td>\n",
       "      <td>8</td>\n",
       "      <td>7</td>\n",
       "      <td>7</td>\n",
       "      <td>7</td>\n",
       "      <td>No</td>\n",
       "      <td>3</td>\n",
       "    </tr>\n",
       "    <tr>\n",
       "      <th>1199</th>\n",
       "      <td>E100998</td>\n",
       "      <td>24</td>\n",
       "      <td>Female</td>\n",
       "      <td>Life Sciences</td>\n",
       "      <td>Single</td>\n",
       "      <td>Sales</td>\n",
       "      <td>Sales Executive</td>\n",
       "      <td>Travel_Rarely</td>\n",
       "      <td>3</td>\n",
       "      <td>2</td>\n",
       "      <td>...</td>\n",
       "      <td>1</td>\n",
       "      <td>4</td>\n",
       "      <td>3</td>\n",
       "      <td>3</td>\n",
       "      <td>2</td>\n",
       "      <td>2</td>\n",
       "      <td>2</td>\n",
       "      <td>0</td>\n",
       "      <td>Yes</td>\n",
       "      <td>2</td>\n",
       "    </tr>\n",
       "  </tbody>\n",
       "</table>\n",
       "<p>5 rows × 28 columns</p>\n",
       "</div>"
      ],
      "text/plain": [
       "     EmpNumber  Age  Gender EducationBackground MaritalStatus EmpDepartment  \\\n",
       "1195   E100992   27  Female             Medical      Divorced         Sales   \n",
       "1196   E100993   37    Male       Life Sciences        Single   Development   \n",
       "1197   E100994   50    Male             Medical       Married   Development   \n",
       "1198   E100995   34  Female             Medical        Single  Data Science   \n",
       "1199   E100998   24  Female       Life Sciences        Single         Sales   \n",
       "\n",
       "            EmpJobRole BusinessTravelFrequency  DistanceFromHome  \\\n",
       "1195   Sales Executive       Travel_Frequently                 3   \n",
       "1196  Senior Developer           Travel_Rarely                10   \n",
       "1197  Senior Developer           Travel_Rarely                28   \n",
       "1198    Data Scientist           Travel_Rarely                 9   \n",
       "1199   Sales Executive           Travel_Rarely                 3   \n",
       "\n",
       "      EmpEducationLevel  ...  EmpRelationshipSatisfaction  \\\n",
       "1195                  1  ...                            2   \n",
       "1196                  2  ...                            1   \n",
       "1197                  1  ...                            3   \n",
       "1198                  3  ...                            2   \n",
       "1199                  2  ...                            1   \n",
       "\n",
       "      TotalWorkExperienceInYears  TrainingTimesLastYear  EmpWorkLifeBalance  \\\n",
       "1195                           6                      3                   3   \n",
       "1196                           4                      2                   3   \n",
       "1197                          20                      3                   3   \n",
       "1198                           9                      3                   4   \n",
       "1199                           4                      3                   3   \n",
       "\n",
       "      ExperienceYearsAtThisCompany  ExperienceYearsInCurrentRole  \\\n",
       "1195                             6                             5   \n",
       "1196                             1                             0   \n",
       "1197                            20                             8   \n",
       "1198                             8                             7   \n",
       "1199                             2                             2   \n",
       "\n",
       "     YearsSinceLastPromotion  YearsWithCurrManager  Attrition  \\\n",
       "1195                       0                     4         No   \n",
       "1196                       0                     0         No   \n",
       "1197                       3                     8         No   \n",
       "1198                       7                     7         No   \n",
       "1199                       2                     0        Yes   \n",
       "\n",
       "      PerformanceRating  \n",
       "1195                  4  \n",
       "1196                  3  \n",
       "1197                  3  \n",
       "1198                  3  \n",
       "1199                  2  \n",
       "\n",
       "[5 rows x 28 columns]"
      ]
     },
     "execution_count": 5,
     "metadata": {},
     "output_type": "execute_result"
    }
   ],
   "source": [
    "data.tail()"
   ]
  },
  {
   "cell_type": "code",
   "execution_count": 6,
   "metadata": {},
   "outputs": [
    {
     "data": {
      "text/plain": [
       "EmpNumber                       object\n",
       "Age                              int64\n",
       "Gender                          object\n",
       "EducationBackground             object\n",
       "MaritalStatus                   object\n",
       "EmpDepartment                   object\n",
       "EmpJobRole                      object\n",
       "BusinessTravelFrequency         object\n",
       "DistanceFromHome                 int64\n",
       "EmpEducationLevel                int64\n",
       "EmpEnvironmentSatisfaction       int64\n",
       "EmpHourlyRate                    int64\n",
       "EmpJobInvolvement                int64\n",
       "EmpJobLevel                      int64\n",
       "EmpJobSatisfaction               int64\n",
       "NumCompaniesWorked               int64\n",
       "OverTime                        object\n",
       "EmpLastSalaryHikePercent         int64\n",
       "EmpRelationshipSatisfaction      int64\n",
       "TotalWorkExperienceInYears       int64\n",
       "TrainingTimesLastYear            int64\n",
       "EmpWorkLifeBalance               int64\n",
       "ExperienceYearsAtThisCompany     int64\n",
       "ExperienceYearsInCurrentRole     int64\n",
       "YearsSinceLastPromotion          int64\n",
       "YearsWithCurrManager             int64\n",
       "Attrition                       object\n",
       "PerformanceRating                int64\n",
       "dtype: object"
      ]
     },
     "execution_count": 6,
     "metadata": {},
     "output_type": "execute_result"
    }
   ],
   "source": [
    "data.dtypes"
   ]
  },
  {
   "cell_type": "code",
   "execution_count": 7,
   "metadata": {},
   "outputs": [
    {
     "data": {
      "text/plain": [
       "(1200, 28)"
      ]
     },
     "execution_count": 7,
     "metadata": {},
     "output_type": "execute_result"
    }
   ],
   "source": [
    "data.shape"
   ]
  },
  {
   "cell_type": "code",
   "execution_count": 8,
   "metadata": {},
   "outputs": [
    {
     "data": {
      "text/plain": [
       "Index(['EmpNumber', 'Age', 'Gender', 'EducationBackground', 'MaritalStatus',\n",
       "       'EmpDepartment', 'EmpJobRole', 'BusinessTravelFrequency',\n",
       "       'DistanceFromHome', 'EmpEducationLevel', 'EmpEnvironmentSatisfaction',\n",
       "       'EmpHourlyRate', 'EmpJobInvolvement', 'EmpJobLevel',\n",
       "       'EmpJobSatisfaction', 'NumCompaniesWorked', 'OverTime',\n",
       "       'EmpLastSalaryHikePercent', 'EmpRelationshipSatisfaction',\n",
       "       'TotalWorkExperienceInYears', 'TrainingTimesLastYear',\n",
       "       'EmpWorkLifeBalance', 'ExperienceYearsAtThisCompany',\n",
       "       'ExperienceYearsInCurrentRole', 'YearsSinceLastPromotion',\n",
       "       'YearsWithCurrManager', 'Attrition', 'PerformanceRating'],\n",
       "      dtype='object')"
      ]
     },
     "execution_count": 8,
     "metadata": {},
     "output_type": "execute_result"
    }
   ],
   "source": [
    "data.columns"
   ]
  },
  {
   "cell_type": "code",
   "execution_count": 9,
   "metadata": {},
   "outputs": [
    {
     "name": "stdout",
     "output_type": "stream",
     "text": [
      "<class 'pandas.core.frame.DataFrame'>\n",
      "RangeIndex: 1200 entries, 0 to 1199\n",
      "Data columns (total 28 columns):\n",
      "EmpNumber                       1200 non-null object\n",
      "Age                             1200 non-null int64\n",
      "Gender                          1200 non-null object\n",
      "EducationBackground             1200 non-null object\n",
      "MaritalStatus                   1200 non-null object\n",
      "EmpDepartment                   1200 non-null object\n",
      "EmpJobRole                      1200 non-null object\n",
      "BusinessTravelFrequency         1200 non-null object\n",
      "DistanceFromHome                1200 non-null int64\n",
      "EmpEducationLevel               1200 non-null int64\n",
      "EmpEnvironmentSatisfaction      1200 non-null int64\n",
      "EmpHourlyRate                   1200 non-null int64\n",
      "EmpJobInvolvement               1200 non-null int64\n",
      "EmpJobLevel                     1200 non-null int64\n",
      "EmpJobSatisfaction              1200 non-null int64\n",
      "NumCompaniesWorked              1200 non-null int64\n",
      "OverTime                        1200 non-null object\n",
      "EmpLastSalaryHikePercent        1200 non-null int64\n",
      "EmpRelationshipSatisfaction     1200 non-null int64\n",
      "TotalWorkExperienceInYears      1200 non-null int64\n",
      "TrainingTimesLastYear           1200 non-null int64\n",
      "EmpWorkLifeBalance              1200 non-null int64\n",
      "ExperienceYearsAtThisCompany    1200 non-null int64\n",
      "ExperienceYearsInCurrentRole    1200 non-null int64\n",
      "YearsSinceLastPromotion         1200 non-null int64\n",
      "YearsWithCurrManager            1200 non-null int64\n",
      "Attrition                       1200 non-null object\n",
      "PerformanceRating               1200 non-null int64\n",
      "dtypes: int64(19), object(9)\n",
      "memory usage: 262.6+ KB\n"
     ]
    }
   ],
   "source": [
    "data.info()"
   ]
  },
  {
   "cell_type": "code",
   "execution_count": 10,
   "metadata": {},
   "outputs": [
    {
     "data": {
      "text/plain": [
       "EmpNumber                       0\n",
       "Age                             0\n",
       "Gender                          0\n",
       "EducationBackground             0\n",
       "MaritalStatus                   0\n",
       "EmpDepartment                   0\n",
       "EmpJobRole                      0\n",
       "BusinessTravelFrequency         0\n",
       "DistanceFromHome                0\n",
       "EmpEducationLevel               0\n",
       "EmpEnvironmentSatisfaction      0\n",
       "EmpHourlyRate                   0\n",
       "EmpJobInvolvement               0\n",
       "EmpJobLevel                     0\n",
       "EmpJobSatisfaction              0\n",
       "NumCompaniesWorked              0\n",
       "OverTime                        0\n",
       "EmpLastSalaryHikePercent        0\n",
       "EmpRelationshipSatisfaction     0\n",
       "TotalWorkExperienceInYears      0\n",
       "TrainingTimesLastYear           0\n",
       "EmpWorkLifeBalance              0\n",
       "ExperienceYearsAtThisCompany    0\n",
       "ExperienceYearsInCurrentRole    0\n",
       "YearsSinceLastPromotion         0\n",
       "YearsWithCurrManager            0\n",
       "Attrition                       0\n",
       "PerformanceRating               0\n",
       "dtype: int64"
      ]
     },
     "execution_count": 10,
     "metadata": {},
     "output_type": "execute_result"
    }
   ],
   "source": [
    "#Missing values check\n",
    "data.isnull().sum()"
   ]
  },
  {
   "cell_type": "code",
   "execution_count": 11,
   "metadata": {},
   "outputs": [
    {
     "data": {
      "text/html": [
       "<div>\n",
       "<style scoped>\n",
       "    .dataframe tbody tr th:only-of-type {\n",
       "        vertical-align: middle;\n",
       "    }\n",
       "\n",
       "    .dataframe tbody tr th {\n",
       "        vertical-align: top;\n",
       "    }\n",
       "\n",
       "    .dataframe thead th {\n",
       "        text-align: right;\n",
       "    }\n",
       "</style>\n",
       "<table border=\"1\" class=\"dataframe\">\n",
       "  <thead>\n",
       "    <tr style=\"text-align: right;\">\n",
       "      <th></th>\n",
       "      <th>Age</th>\n",
       "      <th>DistanceFromHome</th>\n",
       "      <th>EmpEnvironmentSatisfaction</th>\n",
       "      <th>EmpHourlyRate</th>\n",
       "      <th>EmpJobInvolvement</th>\n",
       "      <th>EmpJobLevel</th>\n",
       "      <th>EmpJobSatisfaction</th>\n",
       "      <th>EmpRelationshipSatisfaction</th>\n",
       "      <th>TrainingTimesLastYear</th>\n",
       "    </tr>\n",
       "  </thead>\n",
       "  <tbody>\n",
       "    <tr>\n",
       "      <th>0</th>\n",
       "      <td>32</td>\n",
       "      <td>10</td>\n",
       "      <td>4</td>\n",
       "      <td>55</td>\n",
       "      <td>3</td>\n",
       "      <td>2</td>\n",
       "      <td>4</td>\n",
       "      <td>4</td>\n",
       "      <td>2</td>\n",
       "    </tr>\n",
       "    <tr>\n",
       "      <th>1</th>\n",
       "      <td>47</td>\n",
       "      <td>14</td>\n",
       "      <td>4</td>\n",
       "      <td>42</td>\n",
       "      <td>3</td>\n",
       "      <td>2</td>\n",
       "      <td>1</td>\n",
       "      <td>4</td>\n",
       "      <td>2</td>\n",
       "    </tr>\n",
       "    <tr>\n",
       "      <th>2</th>\n",
       "      <td>40</td>\n",
       "      <td>5</td>\n",
       "      <td>4</td>\n",
       "      <td>48</td>\n",
       "      <td>2</td>\n",
       "      <td>3</td>\n",
       "      <td>1</td>\n",
       "      <td>3</td>\n",
       "      <td>2</td>\n",
       "    </tr>\n",
       "    <tr>\n",
       "      <th>3</th>\n",
       "      <td>41</td>\n",
       "      <td>10</td>\n",
       "      <td>2</td>\n",
       "      <td>73</td>\n",
       "      <td>2</td>\n",
       "      <td>5</td>\n",
       "      <td>4</td>\n",
       "      <td>2</td>\n",
       "      <td>2</td>\n",
       "    </tr>\n",
       "    <tr>\n",
       "      <th>4</th>\n",
       "      <td>60</td>\n",
       "      <td>16</td>\n",
       "      <td>1</td>\n",
       "      <td>84</td>\n",
       "      <td>3</td>\n",
       "      <td>2</td>\n",
       "      <td>1</td>\n",
       "      <td>4</td>\n",
       "      <td>1</td>\n",
       "    </tr>\n",
       "  </tbody>\n",
       "</table>\n",
       "</div>"
      ],
      "text/plain": [
       "   Age  DistanceFromHome  EmpEnvironmentSatisfaction  EmpHourlyRate  \\\n",
       "0   32                10                           4             55   \n",
       "1   47                14                           4             42   \n",
       "2   40                 5                           4             48   \n",
       "3   41                10                           2             73   \n",
       "4   60                16                           1             84   \n",
       "\n",
       "   EmpJobInvolvement  EmpJobLevel  EmpJobSatisfaction  \\\n",
       "0                  3            2                   4   \n",
       "1                  3            2                   1   \n",
       "2                  2            3                   1   \n",
       "3                  2            5                   4   \n",
       "4                  3            2                   1   \n",
       "\n",
       "   EmpRelationshipSatisfaction  TrainingTimesLastYear  \n",
       "0                            4                      2  \n",
       "1                            4                      2  \n",
       "2                            3                      2  \n",
       "3                            2                      2  \n",
       "4                            4                      1  "
      ]
     },
     "execution_count": 11,
     "metadata": {},
     "output_type": "execute_result"
    }
   ],
   "source": [
    "#Let's remove the strongly correlated variables\n",
    "data_uc = data[['Age','DistanceFromHome', \n",
    "                       'EmpEnvironmentSatisfaction', 'EmpHourlyRate',                     \n",
    "                       'EmpJobInvolvement', 'EmpJobLevel',\n",
    "                       'EmpJobSatisfaction', \n",
    "                       'EmpRelationshipSatisfaction', \n",
    "                        'TrainingTimesLastYear']].copy()\n",
    "data_uc.head()"
   ]
  },
  {
   "cell_type": "code",
   "execution_count": 13,
   "metadata": {},
   "outputs": [
    {
     "data": {
      "text/html": [
       "<div>\n",
       "<style scoped>\n",
       "    .dataframe tbody tr th:only-of-type {\n",
       "        vertical-align: middle;\n",
       "    }\n",
       "\n",
       "    .dataframe tbody tr th {\n",
       "        vertical-align: top;\n",
       "    }\n",
       "\n",
       "    .dataframe thead th {\n",
       "        text-align: right;\n",
       "    }\n",
       "</style>\n",
       "<table border=\"1\" class=\"dataframe\">\n",
       "  <thead>\n",
       "    <tr style=\"text-align: right;\">\n",
       "      <th></th>\n",
       "      <th>Attrition</th>\n",
       "      <th>BusinessTravelFrequency</th>\n",
       "      <th>EmpDepartment</th>\n",
       "      <th>EducationBackground</th>\n",
       "      <th>Gender</th>\n",
       "      <th>EmpJobRole</th>\n",
       "      <th>MaritalStatus</th>\n",
       "      <th>OverTime</th>\n",
       "    </tr>\n",
       "  </thead>\n",
       "  <tbody>\n",
       "    <tr>\n",
       "      <th>0</th>\n",
       "      <td>No</td>\n",
       "      <td>Travel_Rarely</td>\n",
       "      <td>Sales</td>\n",
       "      <td>Marketing</td>\n",
       "      <td>Male</td>\n",
       "      <td>Sales Executive</td>\n",
       "      <td>Single</td>\n",
       "      <td>No</td>\n",
       "    </tr>\n",
       "    <tr>\n",
       "      <th>1</th>\n",
       "      <td>No</td>\n",
       "      <td>Travel_Rarely</td>\n",
       "      <td>Sales</td>\n",
       "      <td>Marketing</td>\n",
       "      <td>Male</td>\n",
       "      <td>Sales Executive</td>\n",
       "      <td>Single</td>\n",
       "      <td>No</td>\n",
       "    </tr>\n",
       "    <tr>\n",
       "      <th>2</th>\n",
       "      <td>No</td>\n",
       "      <td>Travel_Frequently</td>\n",
       "      <td>Sales</td>\n",
       "      <td>Life Sciences</td>\n",
       "      <td>Male</td>\n",
       "      <td>Sales Executive</td>\n",
       "      <td>Married</td>\n",
       "      <td>Yes</td>\n",
       "    </tr>\n",
       "    <tr>\n",
       "      <th>3</th>\n",
       "      <td>No</td>\n",
       "      <td>Travel_Rarely</td>\n",
       "      <td>Human Resources</td>\n",
       "      <td>Human Resources</td>\n",
       "      <td>Male</td>\n",
       "      <td>Manager</td>\n",
       "      <td>Divorced</td>\n",
       "      <td>No</td>\n",
       "    </tr>\n",
       "    <tr>\n",
       "      <th>4</th>\n",
       "      <td>No</td>\n",
       "      <td>Travel_Rarely</td>\n",
       "      <td>Sales</td>\n",
       "      <td>Marketing</td>\n",
       "      <td>Male</td>\n",
       "      <td>Sales Executive</td>\n",
       "      <td>Single</td>\n",
       "      <td>No</td>\n",
       "    </tr>\n",
       "  </tbody>\n",
       "</table>\n",
       "</div>"
      ],
      "text/plain": [
       "  Attrition BusinessTravelFrequency    EmpDepartment EducationBackground  \\\n",
       "0        No           Travel_Rarely            Sales           Marketing   \n",
       "1        No           Travel_Rarely            Sales           Marketing   \n",
       "2        No       Travel_Frequently            Sales       Life Sciences   \n",
       "3        No           Travel_Rarely  Human Resources     Human Resources   \n",
       "4        No           Travel_Rarely            Sales           Marketing   \n",
       "\n",
       "  Gender       EmpJobRole MaritalStatus OverTime  \n",
       "0   Male  Sales Executive        Single       No  \n",
       "1   Male  Sales Executive        Single       No  \n",
       "2   Male  Sales Executive       Married      Yes  \n",
       "3   Male          Manager      Divorced       No  \n",
       "4   Male  Sales Executive        Single       No  "
      ]
     },
     "execution_count": 13,
     "metadata": {},
     "output_type": "execute_result"
    }
   ],
   "source": [
    "#Copy categorical data\n",
    "data_cat = data[['Attrition', 'BusinessTravelFrequency','EmpDepartment',\n",
    "                       'EducationBackground','Gender','EmpJobRole',\n",
    "                       'MaritalStatus',\n",
    "                        'OverTime']].copy()\n",
    "data_cat.head()"
   ]
  },
  {
   "cell_type": "code",
   "execution_count": 14,
   "metadata": {},
   "outputs": [
    {
     "data": {
      "text/html": [
       "<div>\n",
       "<style scoped>\n",
       "    .dataframe tbody tr th:only-of-type {\n",
       "        vertical-align: middle;\n",
       "    }\n",
       "\n",
       "    .dataframe tbody tr th {\n",
       "        vertical-align: top;\n",
       "    }\n",
       "\n",
       "    .dataframe thead th {\n",
       "        text-align: right;\n",
       "    }\n",
       "</style>\n",
       "<table border=\"1\" class=\"dataframe\">\n",
       "  <thead>\n",
       "    <tr style=\"text-align: right;\">\n",
       "      <th></th>\n",
       "      <th>Attrition</th>\n",
       "      <th>BusinessTravelFrequency</th>\n",
       "      <th>EmpDepartment</th>\n",
       "      <th>EducationBackground</th>\n",
       "      <th>Gender</th>\n",
       "      <th>EmpJobRole</th>\n",
       "      <th>MaritalStatus</th>\n",
       "      <th>OverTime</th>\n",
       "    </tr>\n",
       "  </thead>\n",
       "  <tbody>\n",
       "    <tr>\n",
       "      <th>0</th>\n",
       "      <td>0</td>\n",
       "      <td>Travel_Rarely</td>\n",
       "      <td>Sales</td>\n",
       "      <td>Marketing</td>\n",
       "      <td>Male</td>\n",
       "      <td>Sales Executive</td>\n",
       "      <td>Single</td>\n",
       "      <td>No</td>\n",
       "    </tr>\n",
       "    <tr>\n",
       "      <th>1</th>\n",
       "      <td>0</td>\n",
       "      <td>Travel_Rarely</td>\n",
       "      <td>Sales</td>\n",
       "      <td>Marketing</td>\n",
       "      <td>Male</td>\n",
       "      <td>Sales Executive</td>\n",
       "      <td>Single</td>\n",
       "      <td>No</td>\n",
       "    </tr>\n",
       "    <tr>\n",
       "      <th>2</th>\n",
       "      <td>0</td>\n",
       "      <td>Travel_Frequently</td>\n",
       "      <td>Sales</td>\n",
       "      <td>Life Sciences</td>\n",
       "      <td>Male</td>\n",
       "      <td>Sales Executive</td>\n",
       "      <td>Married</td>\n",
       "      <td>Yes</td>\n",
       "    </tr>\n",
       "    <tr>\n",
       "      <th>3</th>\n",
       "      <td>0</td>\n",
       "      <td>Travel_Rarely</td>\n",
       "      <td>Human Resources</td>\n",
       "      <td>Human Resources</td>\n",
       "      <td>Male</td>\n",
       "      <td>Manager</td>\n",
       "      <td>Divorced</td>\n",
       "      <td>No</td>\n",
       "    </tr>\n",
       "    <tr>\n",
       "      <th>4</th>\n",
       "      <td>0</td>\n",
       "      <td>Travel_Rarely</td>\n",
       "      <td>Sales</td>\n",
       "      <td>Marketing</td>\n",
       "      <td>Male</td>\n",
       "      <td>Sales Executive</td>\n",
       "      <td>Single</td>\n",
       "      <td>No</td>\n",
       "    </tr>\n",
       "  </tbody>\n",
       "</table>\n",
       "</div>"
      ],
      "text/plain": [
       "   Attrition BusinessTravelFrequency    EmpDepartment EducationBackground  \\\n",
       "0          0           Travel_Rarely            Sales           Marketing   \n",
       "1          0           Travel_Rarely            Sales           Marketing   \n",
       "2          0       Travel_Frequently            Sales       Life Sciences   \n",
       "3          0           Travel_Rarely  Human Resources     Human Resources   \n",
       "4          0           Travel_Rarely            Sales           Marketing   \n",
       "\n",
       "  Gender       EmpJobRole MaritalStatus OverTime  \n",
       "0   Male  Sales Executive        Single       No  \n",
       "1   Male  Sales Executive        Single       No  \n",
       "2   Male  Sales Executive       Married      Yes  \n",
       "3   Male          Manager      Divorced       No  \n",
       "4   Male  Sales Executive        Single       No  "
      ]
     },
     "execution_count": 14,
     "metadata": {},
     "output_type": "execute_result"
    }
   ],
   "source": [
    "Num_val = {'Yes':1, 'No':0}\n",
    "data_cat['Attrition'] = data_cat[\"Attrition\"].apply(lambda x: Num_val[x])\n",
    "data_cat.head()"
   ]
  },
  {
   "cell_type": "code",
   "execution_count": 15,
   "metadata": {},
   "outputs": [
    {
     "data": {
      "text/html": [
       "<div>\n",
       "<style scoped>\n",
       "    .dataframe tbody tr th:only-of-type {\n",
       "        vertical-align: middle;\n",
       "    }\n",
       "\n",
       "    .dataframe tbody tr th {\n",
       "        vertical-align: top;\n",
       "    }\n",
       "\n",
       "    .dataframe thead th {\n",
       "        text-align: right;\n",
       "    }\n",
       "</style>\n",
       "<table border=\"1\" class=\"dataframe\">\n",
       "  <thead>\n",
       "    <tr style=\"text-align: right;\">\n",
       "      <th></th>\n",
       "      <th>Attrition</th>\n",
       "      <th>BusinessTravelFrequency_Non-Travel</th>\n",
       "      <th>BusinessTravelFrequency_Travel_Frequently</th>\n",
       "      <th>BusinessTravelFrequency_Travel_Rarely</th>\n",
       "      <th>EmpDepartment_Data Science</th>\n",
       "      <th>EmpDepartment_Development</th>\n",
       "      <th>EmpDepartment_Finance</th>\n",
       "      <th>EmpDepartment_Human Resources</th>\n",
       "      <th>EmpDepartment_Research &amp; Development</th>\n",
       "      <th>EmpDepartment_Sales</th>\n",
       "      <th>...</th>\n",
       "      <th>EmpJobRole_Sales Representative</th>\n",
       "      <th>EmpJobRole_Senior Developer</th>\n",
       "      <th>EmpJobRole_Senior Manager R&amp;D</th>\n",
       "      <th>EmpJobRole_Technical Architect</th>\n",
       "      <th>EmpJobRole_Technical Lead</th>\n",
       "      <th>MaritalStatus_Divorced</th>\n",
       "      <th>MaritalStatus_Married</th>\n",
       "      <th>MaritalStatus_Single</th>\n",
       "      <th>OverTime_No</th>\n",
       "      <th>OverTime_Yes</th>\n",
       "    </tr>\n",
       "  </thead>\n",
       "  <tbody>\n",
       "    <tr>\n",
       "      <th>0</th>\n",
       "      <td>0</td>\n",
       "      <td>0</td>\n",
       "      <td>0</td>\n",
       "      <td>1</td>\n",
       "      <td>0</td>\n",
       "      <td>0</td>\n",
       "      <td>0</td>\n",
       "      <td>0</td>\n",
       "      <td>0</td>\n",
       "      <td>1</td>\n",
       "      <td>...</td>\n",
       "      <td>0</td>\n",
       "      <td>0</td>\n",
       "      <td>0</td>\n",
       "      <td>0</td>\n",
       "      <td>0</td>\n",
       "      <td>0</td>\n",
       "      <td>0</td>\n",
       "      <td>1</td>\n",
       "      <td>1</td>\n",
       "      <td>0</td>\n",
       "    </tr>\n",
       "    <tr>\n",
       "      <th>1</th>\n",
       "      <td>0</td>\n",
       "      <td>0</td>\n",
       "      <td>0</td>\n",
       "      <td>1</td>\n",
       "      <td>0</td>\n",
       "      <td>0</td>\n",
       "      <td>0</td>\n",
       "      <td>0</td>\n",
       "      <td>0</td>\n",
       "      <td>1</td>\n",
       "      <td>...</td>\n",
       "      <td>0</td>\n",
       "      <td>0</td>\n",
       "      <td>0</td>\n",
       "      <td>0</td>\n",
       "      <td>0</td>\n",
       "      <td>0</td>\n",
       "      <td>0</td>\n",
       "      <td>1</td>\n",
       "      <td>1</td>\n",
       "      <td>0</td>\n",
       "    </tr>\n",
       "    <tr>\n",
       "      <th>2</th>\n",
       "      <td>0</td>\n",
       "      <td>0</td>\n",
       "      <td>1</td>\n",
       "      <td>0</td>\n",
       "      <td>0</td>\n",
       "      <td>0</td>\n",
       "      <td>0</td>\n",
       "      <td>0</td>\n",
       "      <td>0</td>\n",
       "      <td>1</td>\n",
       "      <td>...</td>\n",
       "      <td>0</td>\n",
       "      <td>0</td>\n",
       "      <td>0</td>\n",
       "      <td>0</td>\n",
       "      <td>0</td>\n",
       "      <td>0</td>\n",
       "      <td>1</td>\n",
       "      <td>0</td>\n",
       "      <td>0</td>\n",
       "      <td>1</td>\n",
       "    </tr>\n",
       "    <tr>\n",
       "      <th>3</th>\n",
       "      <td>0</td>\n",
       "      <td>0</td>\n",
       "      <td>0</td>\n",
       "      <td>1</td>\n",
       "      <td>0</td>\n",
       "      <td>0</td>\n",
       "      <td>0</td>\n",
       "      <td>1</td>\n",
       "      <td>0</td>\n",
       "      <td>0</td>\n",
       "      <td>...</td>\n",
       "      <td>0</td>\n",
       "      <td>0</td>\n",
       "      <td>0</td>\n",
       "      <td>0</td>\n",
       "      <td>0</td>\n",
       "      <td>1</td>\n",
       "      <td>0</td>\n",
       "      <td>0</td>\n",
       "      <td>1</td>\n",
       "      <td>0</td>\n",
       "    </tr>\n",
       "    <tr>\n",
       "      <th>4</th>\n",
       "      <td>0</td>\n",
       "      <td>0</td>\n",
       "      <td>0</td>\n",
       "      <td>1</td>\n",
       "      <td>0</td>\n",
       "      <td>0</td>\n",
       "      <td>0</td>\n",
       "      <td>0</td>\n",
       "      <td>0</td>\n",
       "      <td>1</td>\n",
       "      <td>...</td>\n",
       "      <td>0</td>\n",
       "      <td>0</td>\n",
       "      <td>0</td>\n",
       "      <td>0</td>\n",
       "      <td>0</td>\n",
       "      <td>0</td>\n",
       "      <td>0</td>\n",
       "      <td>1</td>\n",
       "      <td>1</td>\n",
       "      <td>0</td>\n",
       "    </tr>\n",
       "  </tbody>\n",
       "</table>\n",
       "<p>5 rows × 42 columns</p>\n",
       "</div>"
      ],
      "text/plain": [
       "   Attrition  BusinessTravelFrequency_Non-Travel  \\\n",
       "0          0                                   0   \n",
       "1          0                                   0   \n",
       "2          0                                   0   \n",
       "3          0                                   0   \n",
       "4          0                                   0   \n",
       "\n",
       "   BusinessTravelFrequency_Travel_Frequently  \\\n",
       "0                                          0   \n",
       "1                                          0   \n",
       "2                                          1   \n",
       "3                                          0   \n",
       "4                                          0   \n",
       "\n",
       "   BusinessTravelFrequency_Travel_Rarely  EmpDepartment_Data Science  \\\n",
       "0                                      1                           0   \n",
       "1                                      1                           0   \n",
       "2                                      0                           0   \n",
       "3                                      1                           0   \n",
       "4                                      1                           0   \n",
       "\n",
       "   EmpDepartment_Development  EmpDepartment_Finance  \\\n",
       "0                          0                      0   \n",
       "1                          0                      0   \n",
       "2                          0                      0   \n",
       "3                          0                      0   \n",
       "4                          0                      0   \n",
       "\n",
       "   EmpDepartment_Human Resources  EmpDepartment_Research & Development  \\\n",
       "0                              0                                     0   \n",
       "1                              0                                     0   \n",
       "2                              0                                     0   \n",
       "3                              1                                     0   \n",
       "4                              0                                     0   \n",
       "\n",
       "   EmpDepartment_Sales  ...  EmpJobRole_Sales Representative  \\\n",
       "0                    1  ...                                0   \n",
       "1                    1  ...                                0   \n",
       "2                    1  ...                                0   \n",
       "3                    0  ...                                0   \n",
       "4                    1  ...                                0   \n",
       "\n",
       "   EmpJobRole_Senior Developer  EmpJobRole_Senior Manager R&D  \\\n",
       "0                            0                              0   \n",
       "1                            0                              0   \n",
       "2                            0                              0   \n",
       "3                            0                              0   \n",
       "4                            0                              0   \n",
       "\n",
       "   EmpJobRole_Technical Architect  EmpJobRole_Technical Lead  \\\n",
       "0                               0                          0   \n",
       "1                               0                          0   \n",
       "2                               0                          0   \n",
       "3                               0                          0   \n",
       "4                               0                          0   \n",
       "\n",
       "   MaritalStatus_Divorced  MaritalStatus_Married  MaritalStatus_Single  \\\n",
       "0                       0                      0                     1   \n",
       "1                       0                      0                     1   \n",
       "2                       0                      1                     0   \n",
       "3                       1                      0                     0   \n",
       "4                       0                      0                     1   \n",
       "\n",
       "   OverTime_No  OverTime_Yes  \n",
       "0            1             0  \n",
       "1            1             0  \n",
       "2            0             1  \n",
       "3            1             0  \n",
       "4            1             0  \n",
       "\n",
       "[5 rows x 42 columns]"
      ]
     },
     "execution_count": 15,
     "metadata": {},
     "output_type": "execute_result"
    }
   ],
   "source": [
    "data_cat = pd.get_dummies(data_cat)\n",
    "data_cat.head()"
   ]
  },
  {
   "cell_type": "code",
   "execution_count": 16,
   "metadata": {},
   "outputs": [
    {
     "data": {
      "text/html": [
       "<div>\n",
       "<style scoped>\n",
       "    .dataframe tbody tr th:only-of-type {\n",
       "        vertical-align: middle;\n",
       "    }\n",
       "\n",
       "    .dataframe tbody tr th {\n",
       "        vertical-align: top;\n",
       "    }\n",
       "\n",
       "    .dataframe thead th {\n",
       "        text-align: right;\n",
       "    }\n",
       "</style>\n",
       "<table border=\"1\" class=\"dataframe\">\n",
       "  <thead>\n",
       "    <tr style=\"text-align: right;\">\n",
       "      <th></th>\n",
       "      <th>Age</th>\n",
       "      <th>DistanceFromHome</th>\n",
       "      <th>EmpEnvironmentSatisfaction</th>\n",
       "      <th>EmpHourlyRate</th>\n",
       "      <th>EmpJobInvolvement</th>\n",
       "      <th>EmpJobLevel</th>\n",
       "      <th>EmpJobSatisfaction</th>\n",
       "      <th>EmpRelationshipSatisfaction</th>\n",
       "      <th>TrainingTimesLastYear</th>\n",
       "      <th>Attrition</th>\n",
       "      <th>...</th>\n",
       "      <th>EmpJobRole_Sales Representative</th>\n",
       "      <th>EmpJobRole_Senior Developer</th>\n",
       "      <th>EmpJobRole_Senior Manager R&amp;D</th>\n",
       "      <th>EmpJobRole_Technical Architect</th>\n",
       "      <th>EmpJobRole_Technical Lead</th>\n",
       "      <th>MaritalStatus_Divorced</th>\n",
       "      <th>MaritalStatus_Married</th>\n",
       "      <th>MaritalStatus_Single</th>\n",
       "      <th>OverTime_No</th>\n",
       "      <th>OverTime_Yes</th>\n",
       "    </tr>\n",
       "  </thead>\n",
       "  <tbody>\n",
       "    <tr>\n",
       "      <th>0</th>\n",
       "      <td>32</td>\n",
       "      <td>10</td>\n",
       "      <td>4</td>\n",
       "      <td>55</td>\n",
       "      <td>3</td>\n",
       "      <td>2</td>\n",
       "      <td>4</td>\n",
       "      <td>4</td>\n",
       "      <td>2</td>\n",
       "      <td>0</td>\n",
       "      <td>...</td>\n",
       "      <td>0</td>\n",
       "      <td>0</td>\n",
       "      <td>0</td>\n",
       "      <td>0</td>\n",
       "      <td>0</td>\n",
       "      <td>0</td>\n",
       "      <td>0</td>\n",
       "      <td>1</td>\n",
       "      <td>1</td>\n",
       "      <td>0</td>\n",
       "    </tr>\n",
       "    <tr>\n",
       "      <th>1</th>\n",
       "      <td>47</td>\n",
       "      <td>14</td>\n",
       "      <td>4</td>\n",
       "      <td>42</td>\n",
       "      <td>3</td>\n",
       "      <td>2</td>\n",
       "      <td>1</td>\n",
       "      <td>4</td>\n",
       "      <td>2</td>\n",
       "      <td>0</td>\n",
       "      <td>...</td>\n",
       "      <td>0</td>\n",
       "      <td>0</td>\n",
       "      <td>0</td>\n",
       "      <td>0</td>\n",
       "      <td>0</td>\n",
       "      <td>0</td>\n",
       "      <td>0</td>\n",
       "      <td>1</td>\n",
       "      <td>1</td>\n",
       "      <td>0</td>\n",
       "    </tr>\n",
       "    <tr>\n",
       "      <th>2</th>\n",
       "      <td>40</td>\n",
       "      <td>5</td>\n",
       "      <td>4</td>\n",
       "      <td>48</td>\n",
       "      <td>2</td>\n",
       "      <td>3</td>\n",
       "      <td>1</td>\n",
       "      <td>3</td>\n",
       "      <td>2</td>\n",
       "      <td>0</td>\n",
       "      <td>...</td>\n",
       "      <td>0</td>\n",
       "      <td>0</td>\n",
       "      <td>0</td>\n",
       "      <td>0</td>\n",
       "      <td>0</td>\n",
       "      <td>0</td>\n",
       "      <td>1</td>\n",
       "      <td>0</td>\n",
       "      <td>0</td>\n",
       "      <td>1</td>\n",
       "    </tr>\n",
       "    <tr>\n",
       "      <th>3</th>\n",
       "      <td>41</td>\n",
       "      <td>10</td>\n",
       "      <td>2</td>\n",
       "      <td>73</td>\n",
       "      <td>2</td>\n",
       "      <td>5</td>\n",
       "      <td>4</td>\n",
       "      <td>2</td>\n",
       "      <td>2</td>\n",
       "      <td>0</td>\n",
       "      <td>...</td>\n",
       "      <td>0</td>\n",
       "      <td>0</td>\n",
       "      <td>0</td>\n",
       "      <td>0</td>\n",
       "      <td>0</td>\n",
       "      <td>1</td>\n",
       "      <td>0</td>\n",
       "      <td>0</td>\n",
       "      <td>1</td>\n",
       "      <td>0</td>\n",
       "    </tr>\n",
       "    <tr>\n",
       "      <th>4</th>\n",
       "      <td>60</td>\n",
       "      <td>16</td>\n",
       "      <td>1</td>\n",
       "      <td>84</td>\n",
       "      <td>3</td>\n",
       "      <td>2</td>\n",
       "      <td>1</td>\n",
       "      <td>4</td>\n",
       "      <td>1</td>\n",
       "      <td>0</td>\n",
       "      <td>...</td>\n",
       "      <td>0</td>\n",
       "      <td>0</td>\n",
       "      <td>0</td>\n",
       "      <td>0</td>\n",
       "      <td>0</td>\n",
       "      <td>0</td>\n",
       "      <td>0</td>\n",
       "      <td>1</td>\n",
       "      <td>1</td>\n",
       "      <td>0</td>\n",
       "    </tr>\n",
       "  </tbody>\n",
       "</table>\n",
       "<p>5 rows × 51 columns</p>\n",
       "</div>"
      ],
      "text/plain": [
       "   Age  DistanceFromHome  EmpEnvironmentSatisfaction  EmpHourlyRate  \\\n",
       "0   32                10                           4             55   \n",
       "1   47                14                           4             42   \n",
       "2   40                 5                           4             48   \n",
       "3   41                10                           2             73   \n",
       "4   60                16                           1             84   \n",
       "\n",
       "   EmpJobInvolvement  EmpJobLevel  EmpJobSatisfaction  \\\n",
       "0                  3            2                   4   \n",
       "1                  3            2                   1   \n",
       "2                  2            3                   1   \n",
       "3                  2            5                   4   \n",
       "4                  3            2                   1   \n",
       "\n",
       "   EmpRelationshipSatisfaction  TrainingTimesLastYear  Attrition  ...  \\\n",
       "0                            4                      2          0  ...   \n",
       "1                            4                      2          0  ...   \n",
       "2                            3                      2          0  ...   \n",
       "3                            2                      2          0  ...   \n",
       "4                            4                      1          0  ...   \n",
       "\n",
       "   EmpJobRole_Sales Representative  EmpJobRole_Senior Developer  \\\n",
       "0                                0                            0   \n",
       "1                                0                            0   \n",
       "2                                0                            0   \n",
       "3                                0                            0   \n",
       "4                                0                            0   \n",
       "\n",
       "   EmpJobRole_Senior Manager R&D  EmpJobRole_Technical Architect  \\\n",
       "0                              0                               0   \n",
       "1                              0                               0   \n",
       "2                              0                               0   \n",
       "3                              0                               0   \n",
       "4                              0                               0   \n",
       "\n",
       "   EmpJobRole_Technical Lead  MaritalStatus_Divorced  MaritalStatus_Married  \\\n",
       "0                          0                       0                      0   \n",
       "1                          0                       0                      0   \n",
       "2                          0                       0                      1   \n",
       "3                          0                       1                      0   \n",
       "4                          0                       0                      0   \n",
       "\n",
       "   MaritalStatus_Single  OverTime_No  OverTime_Yes  \n",
       "0                     1            1             0  \n",
       "1                     1            1             0  \n",
       "2                     0            0             1  \n",
       "3                     0            1             0  \n",
       "4                     1            1             0  \n",
       "\n",
       "[5 rows x 51 columns]"
      ]
     },
     "execution_count": 16,
     "metadata": {},
     "output_type": "execute_result"
    }
   ],
   "source": [
    "data_final = pd.concat([data_uc, data_cat], axis=1)\n",
    "data_final.head()"
   ]
  },
  {
   "cell_type": "code",
   "execution_count": 17,
   "metadata": {},
   "outputs": [
    {
     "name": "stderr",
     "output_type": "stream",
     "text": [
      "C:\\ProgramData\\Anaconda3\\lib\\site-packages\\sklearn\\ensemble\\forest.py:246: FutureWarning: The default value of n_estimators will change from 10 in version 0.20 to 100 in 0.22.\n",
      "  \"10 in version 0.20 to 100 in 0.22.\", FutureWarning)\n"
     ]
    },
    {
     "data": {
      "text/plain": [
       "0.8708333333333333"
      ]
     },
     "execution_count": 17,
     "metadata": {},
     "output_type": "execute_result"
    }
   ],
   "source": [
    "#from sklearn.cross_validation import train_test_split\n",
    "from sklearn.model_selection import train_test_split\n",
    "from sklearn.ensemble import RandomForestClassifier\n",
    "from sklearn.metrics import accuracy_score\n",
    "\n",
    "target = data_final['Attrition']\n",
    "features = data_final.drop('Attrition', axis = 1)\n",
    "#create the train/test split\n",
    "X_train, X_test, y_train, y_test = train_test_split(features, target, test_size=0.4, random_state=10)\n",
    "#Create the model and train\n",
    "model = RandomForestClassifier()\n",
    "model.fit(X_train,y_train)\n",
    "#predict the results for test\n",
    "test_pred = model.predict(X_test)\n",
    "#test the accuracy\n",
    "accuracy_score(y_test, test_pred)"
   ]
  },
  {
   "cell_type": "code",
   "execution_count": 18,
   "metadata": {},
   "outputs": [
    {
     "data": {
      "text/plain": [
       "<matplotlib.axes._subplots.AxesSubplot at 0x2101515bcc0>"
      ]
     },
     "execution_count": 18,
     "metadata": {},
     "output_type": "execute_result"
    },
    {
     "data": {
      "image/png": "[encoded data removed]",
      "text/plain": [
       "<Figure size 432x288 with 1 Axes>"
      ]
     },
     "metadata": {
      "needs_background": "light"
     },
     "output_type": "display_data"
    }
   ],
   "source": [
    "feat_importances = pd.Series(model.feature_importances_, index=features.columns)\n",
    "feat_importances = feat_importances.nlargest(20)\n",
    "feat_importances.plot(kind='barh')"
   ]
  },
  {
   "cell_type": "code",
   "execution_count": null,
   "metadata": {},
   "outputs": [],
   "source": [
    "#age"
   ]
  },
  {
   "cell_type": "code",
   "execution_count": 27,
   "metadata": {},
   "outputs": [
    {
     "data": {
      "text/plain": [
       "Sales                     373\n",
       "Development               361\n",
       "Research & Development    343\n",
       "Human Resources            54\n",
       "Finance                    49\n",
       "Data Science               20\n",
       "Name: EmpDepartment, dtype: int64"
      ]
     },
     "execution_count": 27,
     "metadata": {},
     "output_type": "execute_result"
    }
   ],
   "source": [
    "data['EmpDepartment'].value_counts()"
   ]
  },
  {
   "cell_type": "code",
   "execution_count": 52,
   "metadata": {},
   "outputs": [
    {
     "data": {
      "text/plain": [
       "<matplotlib.axes._subplots.AxesSubplot at 0x186776ba0f0>"
      ]
     },
     "execution_count": 52,
     "metadata": {},
     "output_type": "execute_result"
    },
    {
     "data": {
      "image/png": "[encoded data removed]",
      "text/plain": [
       "<Figure size 432x288 with 1 Axes>"
      ]
     },
     "metadata": {
      "needs_background": "light"
     },
     "output_type": "display_data"
    }
   ],
   "source": [
    "#Department wise performances\n",
    "sales = data[(data['EmpDepartment']=='Sales')]\n",
    "sales['PerformanceRating'].plot(kind='density')"
   ]
  },
  {
   "cell_type": "code",
   "execution_count": 28,
   "metadata": {},
   "outputs": [
    {
     "data": {
      "text/plain": [
       "<matplotlib.axes._subplots.AxesSubplot at 0x18674d50358>"
      ]
     },
     "execution_count": 28,
     "metadata": {},
     "output_type": "execute_result"
    },
    {
     "data": {
      "image/png": "[encoded data removed]",
      "text/plain": [
       "<Figure size 432x288 with 1 Axes>"
      ]
     },
     "metadata": {
      "needs_background": "light"
     },
     "output_type": "display_data"
    }
   ],
   "source": [
    "dev = data[(data['EmpDepartment']=='Development') & (data['PerformanceRating']>=3)]\n",
    "dev['PerformanceRating'].plot(kind='density')"
   ]
  },
  {
   "cell_type": "code",
   "execution_count": 35,
   "metadata": {},
   "outputs": [
    {
     "data": {
      "text/plain": [
       "<matplotlib.axes._subplots.AxesSubplot at 0x18674fcf5c0>"
      ]
     },
     "execution_count": 35,
     "metadata": {},
     "output_type": "execute_result"
    },
    {
     "data": {
      "image/png": "[encoded data removed]",
      "text/plain": [
       "<Figure size 432x288 with 1 Axes>"
      ]
     },
     "metadata": {
      "needs_background": "light"
     },
     "output_type": "display_data"
    }
   ],
   "source": [
    "RD = data[(data['EmpDepartment']=='Research & Development')]\n",
    "RD['PerformanceRating'].plot(kind='density')"
   ]
  },
  {
   "cell_type": "code",
   "execution_count": 34,
   "metadata": {},
   "outputs": [
    {
     "data": {
      "text/plain": [
       "<matplotlib.axes._subplots.AxesSubplot at 0x18674f748d0>"
      ]
     },
     "execution_count": 34,
     "metadata": {},
     "output_type": "execute_result"
    },
    {
     "data": {
      "image/png": "[encoded data removed]",
      "text/plain": [
       "<Figure size 432x288 with 1 Axes>"
      ]
     },
     "metadata": {
      "needs_background": "light"
     },
     "output_type": "display_data"
    }
   ],
   "source": [
    "HR = data[(data['EmpDepartment']=='Human Resources')]\n",
    "HR['PerformanceRating'].plot(kind='density')"
   ]
  },
  {
   "cell_type": "code",
   "execution_count": 33,
   "metadata": {},
   "outputs": [
    {
     "data": {
      "text/plain": [
       "<matplotlib.axes._subplots.AxesSubplot at 0x18674cb1a20>"
      ]
     },
     "execution_count": 33,
     "metadata": {},
     "output_type": "execute_result"
    },
    {
     "data": {
      "image/png": "[encoded data removed]",
      "text/plain": [
       "<Figure size 432x288 with 1 Axes>"
      ]
     },
     "metadata": {
      "needs_background": "light"
     },
     "output_type": "display_data"
    }
   ],
   "source": [
    "F = data[(data['EmpDepartment']=='Finance')]\n",
    "F['PerformanceRating'].plot(kind='density')"
   ]
  },
  {
   "cell_type": "code",
   "execution_count": 58,
   "metadata": {},
   "outputs": [
    {
     "data": {
      "text/plain": [
       "<matplotlib.axes._subplots.AxesSubplot at 0x18677835c18>"
      ]
     },
     "execution_count": 58,
     "metadata": {},
     "output_type": "execute_result"
    },
    {
     "data": {
      "image/png": "[encoded data removed]",
      "text/plain": [
       "<Figure size 432x288 with 1 Axes>"
      ]
     },
     "metadata": {
      "needs_background": "light"
     },
     "output_type": "display_data"
    }
   ],
   "source": [
    "DS= data[(data['EmpDepartment']=='Data Science')]\n",
    "DS['PerformanceRating'].plot(kind='density')"
   ]
  },
  {
   "cell_type": "code",
   "execution_count": 61,
   "metadata": {},
   "outputs": [
    {
     "data": {
      "text/plain": [
       "<matplotlib.legend.Legend at 0x18677990470>"
      ]
     },
     "execution_count": 61,
     "metadata": {},
     "output_type": "execute_result"
    },
    {
     "data": {
      "image/png": "[encoded data removed]",
      "text/plain": [
       "<Figure size 432x288 with 1 Axes>"
      ]
     },
     "metadata": {
      "needs_background": "light"
     },
     "output_type": "display_data"
    }
   ],
   "source": [
    "#1 \n",
    "sales = data[(data['EmpDepartment']=='Sales')]\n",
    "sales['PerformanceRating'].plot(kind='density',label='sales')\n",
    "#2 \n",
    "dev = data[(data['EmpDepartment']=='Development') & (data['PerformanceRating']>=3)]\n",
    "dev['PerformanceRating'].plot(kind='density',label='Development')\n",
    "#3\n",
    "RD = data[(data['EmpDepartment']=='Research & Development')]\n",
    "RD['PerformanceRating'].plot(kind='density',label='R & D')\n",
    "#4\n",
    "HR = data[(data['EmpDepartment']=='Human Resources')]\n",
    "HR['PerformanceRating'].plot(kind='density',label='Human Resource')\n",
    "#5\n",
    "F = data[(data['EmpDepartment']=='Finance')]\n",
    "F['PerformanceRating'].plot(kind='density',label='Finance')\n",
    "#6\n",
    "DS= data[(data['EmpDepartment']=='Data Science')]\n",
    "DS['PerformanceRating'].plot(kind='density',label='Data Science')\n",
    "plt.legend()"
   ]
  },
  {
   "cell_type": "code",
   "execution_count": 10,
   "metadata": {},
   "outputs": [
    {
     "data": {
      "text/plain": [
       "<matplotlib.axes._subplots.AxesSubplot at 0x1eaef1c6f28>"
      ]
     },
     "execution_count": 10,
     "metadata": {},
     "output_type": "execute_result"
    },
    {
     "data": {
      "image/png": "[encoded data removed]",
      "text/plain": [
       "<Figure size 432x288 with 1 Axes>"
      ]
     },
     "metadata": {
      "needs_background": "light"
     },
     "output_type": "display_data"
    }
   ],
   "source": [
    "sn.countplot(x='PerformanceRating',hue='EmpDepartment',data=data)"
   ]
  },
  {
   "cell_type": "markdown",
   "metadata": {},
   "source": [
    "#As per the above graphs, performance of Development department is very good on the basis of Performance rating"
   ]
  },
  {
   "cell_type": "code",
   "execution_count": 4,
   "metadata": {},
   "outputs": [],
   "source": [
    "#Top 3 Important Factors affecting employee performance.\n",
    "dataN = data.copy()\n",
    "dataN['Output']=dataN['Attrition'].apply(lambda x: 0 if x=='No' else 1)"
   ]
  },
  {
   "cell_type": "code",
   "execution_count": 5,
   "metadata": {},
   "outputs": [
    {
     "data": {
      "text/plain": [
       "Index(['EmpNumber', 'Age', 'Gender', 'EducationBackground', 'MaritalStatus',\n",
       "       'EmpDepartment', 'EmpJobRole', 'BusinessTravelFrequency',\n",
       "       'DistanceFromHome', 'EmpEducationLevel', 'EmpEnvironmentSatisfaction',\n",
       "       'EmpHourlyRate', 'EmpJobInvolvement', 'EmpJobLevel',\n",
       "       'EmpJobSatisfaction', 'NumCompaniesWorked', 'OverTime',\n",
       "       'EmpLastSalaryHikePercent', 'EmpRelationshipSatisfaction',\n",
       "       'TotalWorkExperienceInYears', 'TrainingTimesLastYear',\n",
       "       'EmpWorkLifeBalance', 'ExperienceYearsAtThisCompany',\n",
       "       'ExperienceYearsInCurrentRole', 'YearsSinceLastPromotion',\n",
       "       'YearsWithCurrManager', 'Attrition', 'PerformanceRating', 'Output'],\n",
       "      dtype='object')"
      ]
     },
     "execution_count": 5,
     "metadata": {},
     "output_type": "execute_result"
    }
   ],
   "source": [
    "dataN.columns"
   ]
  },
  {
   "cell_type": "code",
   "execution_count": 6,
   "metadata": {},
   "outputs": [],
   "source": [
    "dataN = dataN.drop(['EmpNumber','Attrition'],axis=1)"
   ]
  },
  {
   "cell_type": "code",
   "execution_count": 44,
   "metadata": {},
   "outputs": [
    {
     "data": {
      "text/plain": [
       "Age                          -0.189317\n",
       "TotalWorkExperienceInYears   -0.185226\n",
       "EmpJobLevel                  -0.175763\n",
       "Name: Output, dtype: float64"
      ]
     },
     "execution_count": 44,
     "metadata": {},
     "output_type": "execute_result"
    }
   ],
   "source": [
    "correlate = dataN.corr()['Output'].sort_values()\n",
    "correlate.head(3)\n",
    "#Below are the top 3 Important Factors affecting employee performance "
   ]
  },
  {
   "cell_type": "code",
   "execution_count": 19,
   "metadata": {},
   "outputs": [
    {
     "data": {
      "text/plain": [
       "<matplotlib.axes._subplots.AxesSubplot at 0x1fb2076aef0>"
      ]
     },
     "execution_count": 19,
     "metadata": {},
     "output_type": "execute_result"
    },
    {
     "data": {
      "image/png": "[encoded data removed]",
      "text/plain": [
       "<Figure size 720x720 with 2 Axes>"
      ]
     },
     "metadata": {
      "needs_background": "light"
     },
     "output_type": "display_data"
    }
   ],
   "source": [
    "#Also we can analyze through Visualization which factors affect performance\n",
    "import numpy as np\n",
    "sn.set_context(context='notebook')\n",
    "fig, ax = plt.subplots(figsize=(10,10)) \n",
    "corr=data.corr()\n",
    "mask = np.zeros_like(corr, dtype=np.bool)\n",
    "mask[np.tril_indices_from(mask)] = True\n",
    "\n",
    "cmap = sn.diverging_palette(220, 10, as_cmap=True)\n",
    "\n",
    "sn.heatmap(corr, cmap=cmap,linewidths=1, vmin=-1, vmax=1, square=True, cbar=True, center=0, ax=ax, mask=mask)"
   ]
  },
  {
   "cell_type": "markdown",
   "metadata": {},
   "source": [
    "### Analysis Over data"
   ]
  },
  {
   "cell_type": "code",
   "execution_count": 33,
   "metadata": {},
   "outputs": [
    {
     "data": {
      "text/plain": [
       "<matplotlib.axes._subplots.AxesSubplot at 0x1fb2335dcc0>"
      ]
     },
     "execution_count": 33,
     "metadata": {},
     "output_type": "execute_result"
    },
    {
     "data": {
      "image/png": "[encoded data removed]",
      "text/plain": [
       "<Figure size 432x288 with 1 Axes>"
      ]
     },
     "metadata": {
      "needs_background": "light"
     },
     "output_type": "display_data"
    }
   ],
   "source": [
    "sn.countplot(hue='Attrition',x='DistanceFromHome',data=data)"
   ]
  },
  {
   "cell_type": "code",
   "execution_count": 37,
   "metadata": {},
   "outputs": [
    {
     "data": {
      "text/plain": [
       "<matplotlib.axes._subplots.AxesSubplot at 0x1fb2374da58>"
      ]
     },
     "execution_count": 37,
     "metadata": {},
     "output_type": "execute_result"
    },
    {
     "data": {
      "image/png": "[encoded data removed]",
      "text/plain": [
       "<Figure size 432x288 with 1 Axes>"
      ]
     },
     "metadata": {
      "needs_background": "light"
     },
     "output_type": "display_data"
    }
   ],
   "source": [
    "sn.countplot(hue='Attrition',x='EmpDepartment',data=data)"
   ]
  },
  {
   "cell_type": "code",
   "execution_count": 41,
   "metadata": {},
   "outputs": [
    {
     "data": {
      "text/plain": [
       "<matplotlib.axes._subplots.AxesSubplot at 0x1fb24eda1d0>"
      ]
     },
     "execution_count": 41,
     "metadata": {},
     "output_type": "execute_result"
    },
    {
     "data": {
      "image/png": "[encoded data removed]",
      "text/plain": [
       "<Figure size 432x288 with 1 Axes>"
      ]
     },
     "metadata": {
      "needs_background": "light"
     },
     "output_type": "display_data"
    }
   ],
   "source": [
    "sn.countplot(hue='Attrition',x='EmpJobLevel',data=data)"
   ]
  },
  {
   "cell_type": "code",
   "execution_count": 45,
   "metadata": {},
   "outputs": [
    {
     "data": {
      "text/plain": [
       "<matplotlib.axes._subplots.AxesSubplot at 0x1fb24fc6080>"
      ]
     },
     "execution_count": 45,
     "metadata": {},
     "output_type": "execute_result"
    },
    {
     "data": {
      "image/png": "[encoded data removed]",
      "text/plain": [
       "<Figure size 432x288 with 1 Axes>"
      ]
     },
     "metadata": {
      "needs_background": "light"
     },
     "output_type": "display_data"
    }
   ],
   "source": [
    "sn.countplot(hue='Attrition',x='PerformanceRating',data=data)"
   ]
  },
  {
   "cell_type": "code",
   "execution_count": 46,
   "metadata": {},
   "outputs": [
    {
     "data": {
      "text/plain": [
       "<matplotlib.axes._subplots.AxesSubplot at 0x1fb2501d518>"
      ]
     },
     "execution_count": 46,
     "metadata": {},
     "output_type": "execute_result"
    },
    {
     "data": {
      "image/png": "[encoded data removed]",
      "text/plain": [
       "<Figure size 432x288 with 1 Axes>"
      ]
     },
     "metadata": {
      "needs_background": "light"
     },
     "output_type": "display_data"
    }
   ],
   "source": [
    "sn.countplot(hue='Attrition',x='EmpJobSatisfaction',data=data)"
   ]
  },
  {
   "cell_type": "code",
   "execution_count": 47,
   "metadata": {},
   "outputs": [
    {
     "data": {
      "text/plain": [
       "<matplotlib.axes._subplots.AxesSubplot at 0x1fb24f9be10>"
      ]
     },
     "execution_count": 47,
     "metadata": {},
     "output_type": "execute_result"
    },
    {
     "data": {
      "image/png": "[encoded data removed]",
      "text/plain": [
       "<Figure size 432x288 with 1 Axes>"
      ]
     },
     "metadata": {
      "needs_background": "light"
     },
     "output_type": "display_data"
    }
   ],
   "source": [
    "sn.countplot(hue='Attrition',x='EmpWorkLifeBalance',data=data)\n"
   ]
  }
 ],
 "metadata": {
  "kernelspec": {
   "display_name": "Python 3",
   "language": "python",
   "name": "python3"
  },
  "language_info": {
   "codemirror_mode": {
    "name": "ipython",
    "version": 3
   },
   "file_extension": ".py",
   "mimetype": "text/x-python",
   "name": "python",
   "nbconvert_exporter": "python",
   "pygments_lexer": "ipython3",
   "version": "3.7.3"
  }
 },
 "nbformat": 4,
 "nbformat_minor": 2
}
