{
 "cells": [
  {
   "cell_type": "markdown",
   "metadata": {},
   "source": [
    "# # Artificial Neural Network"
   ]
  },
  {
   "cell_type": "markdown",
   "metadata": {},
   "source": [
    " Part 1 - Data Preprocessing"
   ]
  },
  {
   "cell_type": "code",
   "execution_count": 1,
   "metadata": {},
   "outputs": [],
   "source": [
    "# Importing the libraries\n",
    "import numpy as np\n",
    "import matplotlib.pyplot as plt\n",
    "import pandas as pd"
   ]
  },
  {
   "cell_type": "code",
   "execution_count": 5,
   "metadata": {},
   "outputs": [
    {
     "data": {
      "text/html": [
       "<div>\n",
       "<style scoped>\n",
       "    .dataframe tbody tr th:only-of-type {\n",
       "        vertical-align: middle;\n",
       "    }\n",
       "\n",
       "    .dataframe tbody tr th {\n",
       "        vertical-align: top;\n",
       "    }\n",
       "\n",
       "    .dataframe thead th {\n",
       "        text-align: right;\n",
       "    }\n",
       "</style>\n",
       "<table border=\"1\" class=\"dataframe\">\n",
       "  <thead>\n",
       "    <tr style=\"text-align: right;\">\n",
       "      <th></th>\n",
       "      <th>RowNumber</th>\n",
       "      <th>CustomerId</th>\n",
       "      <th>Surname</th>\n",
       "      <th>CreditScore</th>\n",
       "      <th>Geography</th>\n",
       "      <th>Gender</th>\n",
       "      <th>Age</th>\n",
       "      <th>Tenure</th>\n",
       "      <th>Balance</th>\n",
       "      <th>NumOfProducts</th>\n",
       "      <th>HasCrCard</th>\n",
       "      <th>IsActiveMember</th>\n",
       "      <th>EstimatedSalary</th>\n",
       "      <th>Exited</th>\n",
       "    </tr>\n",
       "  </thead>\n",
       "  <tbody>\n",
       "    <tr>\n",
       "      <th>0</th>\n",
       "      <td>1</td>\n",
       "      <td>15634602</td>\n",
       "      <td>Hargrave</td>\n",
       "      <td>619</td>\n",
       "      <td>France</td>\n",
       "      <td>Female</td>\n",
       "      <td>42</td>\n",
       "      <td>2</td>\n",
       "      <td>0.00</td>\n",
       "      <td>1</td>\n",
       "      <td>1</td>\n",
       "      <td>1</td>\n",
       "      <td>101348.88</td>\n",
       "      <td>1</td>\n",
       "    </tr>\n",
       "    <tr>\n",
       "      <th>1</th>\n",
       "      <td>2</td>\n",
       "      <td>15647311</td>\n",
       "      <td>Hill</td>\n",
       "      <td>608</td>\n",
       "      <td>Spain</td>\n",
       "      <td>Female</td>\n",
       "      <td>41</td>\n",
       "      <td>1</td>\n",
       "      <td>83807.86</td>\n",
       "      <td>1</td>\n",
       "      <td>0</td>\n",
       "      <td>1</td>\n",
       "      <td>112542.58</td>\n",
       "      <td>0</td>\n",
       "    </tr>\n",
       "    <tr>\n",
       "      <th>2</th>\n",
       "      <td>3</td>\n",
       "      <td>15619304</td>\n",
       "      <td>Onio</td>\n",
       "      <td>502</td>\n",
       "      <td>France</td>\n",
       "      <td>Female</td>\n",
       "      <td>42</td>\n",
       "      <td>8</td>\n",
       "      <td>159660.80</td>\n",
       "      <td>3</td>\n",
       "      <td>1</td>\n",
       "      <td>0</td>\n",
       "      <td>113931.57</td>\n",
       "      <td>1</td>\n",
       "    </tr>\n",
       "    <tr>\n",
       "      <th>3</th>\n",
       "      <td>4</td>\n",
       "      <td>15701354</td>\n",
       "      <td>Boni</td>\n",
       "      <td>699</td>\n",
       "      <td>France</td>\n",
       "      <td>Female</td>\n",
       "      <td>39</td>\n",
       "      <td>1</td>\n",
       "      <td>0.00</td>\n",
       "      <td>2</td>\n",
       "      <td>0</td>\n",
       "      <td>0</td>\n",
       "      <td>93826.63</td>\n",
       "      <td>0</td>\n",
       "    </tr>\n",
       "    <tr>\n",
       "      <th>4</th>\n",
       "      <td>5</td>\n",
       "      <td>15737888</td>\n",
       "      <td>Mitchell</td>\n",
       "      <td>850</td>\n",
       "      <td>Spain</td>\n",
       "      <td>Female</td>\n",
       "      <td>43</td>\n",
       "      <td>2</td>\n",
       "      <td>125510.82</td>\n",
       "      <td>1</td>\n",
       "      <td>1</td>\n",
       "      <td>1</td>\n",
       "      <td>79084.10</td>\n",
       "      <td>0</td>\n",
       "    </tr>\n",
       "  </tbody>\n",
       "</table>\n",
       "</div>"
      ],
      "text/plain": [
       "   RowNumber  CustomerId   Surname  CreditScore Geography  Gender  Age  \\\n",
       "0          1    15634602  Hargrave          619    France  Female   42   \n",
       "1          2    15647311      Hill          608     Spain  Female   41   \n",
       "2          3    15619304      Onio          502    France  Female   42   \n",
       "3          4    15701354      Boni          699    France  Female   39   \n",
       "4          5    15737888  Mitchell          850     Spain  Female   43   \n",
       "\n",
       "   Tenure    Balance  NumOfProducts  HasCrCard  IsActiveMember  \\\n",
       "0       2       0.00              1          1               1   \n",
       "1       1   83807.86              1          0               1   \n",
       "2       8  159660.80              3          1               0   \n",
       "3       1       0.00              2          0               0   \n",
       "4       2  125510.82              1          1               1   \n",
       "\n",
       "   EstimatedSalary  Exited  \n",
       "0        101348.88       1  \n",
       "1        112542.58       0  \n",
       "2        113931.57       1  \n",
       "3         93826.63       0  \n",
       "4         79084.10       0  "
      ]
     },
     "execution_count": 5,
     "metadata": {},
     "output_type": "execute_result"
    }
   ],
   "source": [
    "# Importing the dataset\n",
    "dataset = pd.read_csv('BankCustomers.csv')\n",
    "dataset.head()"
   ]
  },
  {
   "cell_type": "code",
   "execution_count": 6,
   "metadata": {},
   "outputs": [
    {
     "name": "stdout",
     "output_type": "stream",
     "text": [
      "<class 'pandas.core.frame.DataFrame'>\n",
      "RangeIndex: 10000 entries, 0 to 9999\n",
      "Data columns (total 14 columns):\n",
      "RowNumber          10000 non-null int64\n",
      "CustomerId         10000 non-null int64\n",
      "Surname            10000 non-null object\n",
      "CreditScore        10000 non-null int64\n",
      "Geography          10000 non-null object\n",
      "Gender             10000 non-null object\n",
      "Age                10000 non-null int64\n",
      "Tenure             10000 non-null int64\n",
      "Balance            10000 non-null float64\n",
      "NumOfProducts      10000 non-null int64\n",
      "HasCrCard          10000 non-null int64\n",
      "IsActiveMember     10000 non-null int64\n",
      "EstimatedSalary    10000 non-null float64\n",
      "Exited             10000 non-null int64\n",
      "dtypes: float64(2), int64(9), object(3)\n",
      "memory usage: 1.1+ MB\n"
     ]
    }
   ],
   "source": [
    "dataset.info()"
   ]
  },
  {
   "cell_type": "code",
   "execution_count": 11,
   "metadata": {},
   "outputs": [
    {
     "data": {
      "text/html": [
       "<div>\n",
       "<style scoped>\n",
       "    .dataframe tbody tr th:only-of-type {\n",
       "        vertical-align: middle;\n",
       "    }\n",
       "\n",
       "    .dataframe tbody tr th {\n",
       "        vertical-align: top;\n",
       "    }\n",
       "\n",
       "    .dataframe thead th {\n",
       "        text-align: right;\n",
       "    }\n",
       "</style>\n",
       "<table border=\"1\" class=\"dataframe\">\n",
       "  <thead>\n",
       "    <tr style=\"text-align: right;\">\n",
       "      <th></th>\n",
       "      <th>CreditScore</th>\n",
       "      <th>Geography</th>\n",
       "      <th>Gender</th>\n",
       "      <th>Age</th>\n",
       "      <th>Tenure</th>\n",
       "      <th>Balance</th>\n",
       "      <th>NumOfProducts</th>\n",
       "      <th>HasCrCard</th>\n",
       "      <th>IsActiveMember</th>\n",
       "      <th>EstimatedSalary</th>\n",
       "    </tr>\n",
       "  </thead>\n",
       "  <tbody>\n",
       "    <tr>\n",
       "      <th>0</th>\n",
       "      <td>619</td>\n",
       "      <td>France</td>\n",
       "      <td>Female</td>\n",
       "      <td>42</td>\n",
       "      <td>2</td>\n",
       "      <td>0.00</td>\n",
       "      <td>1</td>\n",
       "      <td>1</td>\n",
       "      <td>1</td>\n",
       "      <td>101348.88</td>\n",
       "    </tr>\n",
       "    <tr>\n",
       "      <th>1</th>\n",
       "      <td>608</td>\n",
       "      <td>Spain</td>\n",
       "      <td>Female</td>\n",
       "      <td>41</td>\n",
       "      <td>1</td>\n",
       "      <td>83807.86</td>\n",
       "      <td>1</td>\n",
       "      <td>0</td>\n",
       "      <td>1</td>\n",
       "      <td>112542.58</td>\n",
       "    </tr>\n",
       "    <tr>\n",
       "      <th>2</th>\n",
       "      <td>502</td>\n",
       "      <td>France</td>\n",
       "      <td>Female</td>\n",
       "      <td>42</td>\n",
       "      <td>8</td>\n",
       "      <td>159660.80</td>\n",
       "      <td>3</td>\n",
       "      <td>1</td>\n",
       "      <td>0</td>\n",
       "      <td>113931.57</td>\n",
       "    </tr>\n",
       "    <tr>\n",
       "      <th>3</th>\n",
       "      <td>699</td>\n",
       "      <td>France</td>\n",
       "      <td>Female</td>\n",
       "      <td>39</td>\n",
       "      <td>1</td>\n",
       "      <td>0.00</td>\n",
       "      <td>2</td>\n",
       "      <td>0</td>\n",
       "      <td>0</td>\n",
       "      <td>93826.63</td>\n",
       "    </tr>\n",
       "    <tr>\n",
       "      <th>4</th>\n",
       "      <td>850</td>\n",
       "      <td>Spain</td>\n",
       "      <td>Female</td>\n",
       "      <td>43</td>\n",
       "      <td>2</td>\n",
       "      <td>125510.82</td>\n",
       "      <td>1</td>\n",
       "      <td>1</td>\n",
       "      <td>1</td>\n",
       "      <td>79084.10</td>\n",
       "    </tr>\n",
       "  </tbody>\n",
       "</table>\n",
       "</div>"
      ],
      "text/plain": [
       "   CreditScore Geography  Gender  Age  Tenure    Balance  NumOfProducts  \\\n",
       "0          619    France  Female   42       2       0.00              1   \n",
       "1          608     Spain  Female   41       1   83807.86              1   \n",
       "2          502    France  Female   42       8  159660.80              3   \n",
       "3          699    France  Female   39       1       0.00              2   \n",
       "4          850     Spain  Female   43       2  125510.82              1   \n",
       "\n",
       "   HasCrCard  IsActiveMember  EstimatedSalary  \n",
       "0          1               1        101348.88  \n",
       "1          0               1        112542.58  \n",
       "2          1               0        113931.57  \n",
       "3          0               0         93826.63  \n",
       "4          1               1         79084.10  "
      ]
     },
     "execution_count": 11,
     "metadata": {},
     "output_type": "execute_result"
    }
   ],
   "source": [
    "X = dataset.iloc[:, 3:13]\n",
    "X.head()"
   ]
  },
  {
   "cell_type": "code",
   "execution_count": 12,
   "metadata": {},
   "outputs": [
    {
     "data": {
      "text/plain": [
       "0    1\n",
       "1    0\n",
       "2    1\n",
       "3    0\n",
       "4    0\n",
       "Name: Exited, dtype: int64"
      ]
     },
     "execution_count": 12,
     "metadata": {},
     "output_type": "execute_result"
    }
   ],
   "source": [
    "y = dataset.iloc[:, 13]\n",
    "y.head()"
   ]
  },
  {
   "cell_type": "code",
   "execution_count": 13,
   "metadata": {},
   "outputs": [],
   "source": [
    "# convert categorical feature into dummy variables\n",
    "\n",
    "states=pd.get_dummies(X['Geography'],drop_first=True)\n",
    "gender=pd.get_dummies(X['Gender'],drop_first=True)"
   ]
  },
  {
   "cell_type": "code",
   "execution_count": 14,
   "metadata": {},
   "outputs": [],
   "source": [
    "#concatenate the remaining dummies columns\n",
    "X=pd.concat([X,states,gender],axis=1)"
   ]
  },
  {
   "cell_type": "code",
   "execution_count": 15,
   "metadata": {},
   "outputs": [],
   "source": [
    "#drop the columns as it is no longer required\n",
    "\n",
    "X=X.drop(['Geography','Gender'],axis=1)"
   ]
  },
  {
   "cell_type": "code",
   "execution_count": 16,
   "metadata": {},
   "outputs": [],
   "source": [
    "# Splitting the dataset into the Training set and Test set\n",
    "from sklearn.model_selection import train_test_split\n",
    "X_train, X_test, y_train, y_test = train_test_split(X, y, test_size = 0.2, random_state = 0)"
   ]
  },
  {
   "cell_type": "code",
   "execution_count": 17,
   "metadata": {},
   "outputs": [
    {
     "name": "stderr",
     "output_type": "stream",
     "text": [
      "C:\\ProgramData\\Anaconda3\\lib\\site-packages\\sklearn\\preprocessing\\data.py:645: DataConversionWarning: Data with input dtype uint8, int64, float64 were all converted to float64 by StandardScaler.\n",
      "  return self.partial_fit(X, y)\n",
      "C:\\ProgramData\\Anaconda3\\lib\\site-packages\\sklearn\\base.py:464: DataConversionWarning: Data with input dtype uint8, int64, float64 were all converted to float64 by StandardScaler.\n",
      "  return self.fit(X, **fit_params).transform(X)\n",
      "C:\\ProgramData\\Anaconda3\\lib\\site-packages\\ipykernel_launcher.py:5: DataConversionWarning: Data with input dtype uint8, int64, float64 were all converted to float64 by StandardScaler.\n",
      "  \"\"\"\n"
     ]
    }
   ],
   "source": [
    "# Feature Scaling\n",
    "from sklearn.preprocessing import StandardScaler\n",
    "sc = StandardScaler()\n",
    "X_train = sc.fit_transform(X_train)\n",
    "X_test = sc.transform(X_test)"
   ]
  },
  {
   "cell_type": "markdown",
   "metadata": {},
   "source": [
    "- Now let's make the ANN!"
   ]
  },
  {
   "cell_type": "code",
   "execution_count": 18,
   "metadata": {},
   "outputs": [
    {
     "name": "stderr",
     "output_type": "stream",
     "text": [
      "Using TensorFlow backend.\n"
     ]
    }
   ],
   "source": [
    "# Importing the Keras libraries and packages\n",
    "import keras\n",
    "from keras.models import Sequential\n",
    "from keras.layers import Dense"
   ]
  },
  {
   "cell_type": "code",
   "execution_count": 19,
   "metadata": {},
   "outputs": [],
   "source": [
    "# Initialising the ANN\n",
    "classifier = Sequential()"
   ]
  },
  {
   "cell_type": "code",
   "execution_count": 20,
   "metadata": {},
   "outputs": [],
   "source": [
    "# Adding the input layer and the first hidden layer\n",
    "classifier.add(Dense(activation=\"relu\", input_dim=11, units=6, kernel_initializer=\"uniform\"))"
   ]
  },
  {
   "cell_type": "code",
   "execution_count": 21,
   "metadata": {},
   "outputs": [],
   "source": [
    "# Adding the second hidden layer\n",
    "classifier.add(Dense(activation=\"relu\", units=6, kernel_initializer=\"uniform\"))"
   ]
  },
  {
   "cell_type": "code",
   "execution_count": 22,
   "metadata": {},
   "outputs": [],
   "source": [
    "# Adding the output layer\n",
    "classifier.add(Dense(activation=\"sigmoid\", units=1, kernel_initializer=\"uniform\"))"
   ]
  },
  {
   "cell_type": "code",
   "execution_count": 23,
   "metadata": {},
   "outputs": [],
   "source": [
    "# Compiling the ANN\n",
    "classifier.compile(optimizer = 'adam', loss = 'binary_crossentropy', metrics = ['accuracy'])"
   ]
  },
  {
   "cell_type": "code",
   "execution_count": 24,
   "metadata": {},
   "outputs": [
    {
     "name": "stderr",
     "output_type": "stream",
     "text": [
      "C:\\ProgramData\\Anaconda3\\lib\\site-packages\\ipykernel_launcher.py:2: UserWarning: The `nb_epoch` argument in `fit` has been renamed `epochs`.\n",
      "  \n"
     ]
    },
    {
     "name": "stdout",
     "output_type": "stream",
     "text": [
      "Epoch 1/100\n",
      "8000/8000 [==============================] - 3s 364us/step - loss: 0.4865 - accuracy: 0.7954\n",
      "Epoch 2/100\n",
      "8000/8000 [==============================] - 1s 175us/step - loss: 0.4275 - accuracy: 0.7960\n",
      "Epoch 3/100\n",
      "8000/8000 [==============================] - 2s 205us/step - loss: 0.4211 - accuracy: 0.8089\n",
      "Epoch 4/100\n",
      "8000/8000 [==============================] - 1s 143us/step - loss: 0.4154 - accuracy: 0.8271\n",
      "Epoch 5/100\n",
      "8000/8000 [==============================] - 1s 166us/step - loss: 0.4109 - accuracy: 0.8295\n",
      "Epoch 6/100\n",
      "8000/8000 [==============================] - 1s 141us/step - loss: 0.4075 - accuracy: 0.8342\n",
      "Epoch 7/100\n",
      "8000/8000 [==============================] - 1s 142us/step - loss: 0.4052 - accuracy: 0.8332\n",
      "Epoch 8/100\n",
      "8000/8000 [==============================] - 1s 141us/step - loss: 0.4031 - accuracy: 0.8340\n",
      "Epoch 9/100\n",
      "8000/8000 [==============================] - 1s 176us/step - loss: 0.4021 - accuracy: 0.8345\n",
      "Epoch 10/100\n",
      "8000/8000 [==============================] - 1s 180us/step - loss: 0.4011 - accuracy: 0.8350\n",
      "Epoch 11/100\n",
      "8000/8000 [==============================] - 2s 199us/step - loss: 0.4000 - accuracy: 0.8340\n",
      "Epoch 12/100\n",
      "8000/8000 [==============================] - 1s 169us/step - loss: 0.3994 - accuracy: 0.8346\n",
      "Epoch 13/100\n",
      "8000/8000 [==============================] - 1s 169us/step - loss: 0.3985 - accuracy: 0.8355\n",
      "Epoch 14/100\n",
      "8000/8000 [==============================] - 1s 174us/step - loss: 0.3978 - accuracy: 0.8354\n",
      "Epoch 15/100\n",
      "8000/8000 [==============================] - 1s 168us/step - loss: 0.3977 - accuracy: 0.8346\n",
      "Epoch 16/100\n",
      "8000/8000 [==============================] - 1s 167us/step - loss: 0.3973 - accuracy: 0.8329\n",
      "Epoch 17/100\n",
      "8000/8000 [==============================] - 1s 168us/step - loss: 0.3970 - accuracy: 0.8335\n",
      "Epoch 18/100\n",
      "8000/8000 [==============================] - 1s 170us/step - loss: 0.3966 - accuracy: 0.8332\n",
      "Epoch 19/100\n",
      "8000/8000 [==============================] - 1s 169us/step - loss: 0.3958 - accuracy: 0.8349\n",
      "Epoch 20/100\n",
      "8000/8000 [==============================] - 1s 162us/step - loss: 0.3960 - accuracy: 0.8338\n",
      "Epoch 21/100\n",
      "8000/8000 [==============================] - 1s 165us/step - loss: 0.3960 - accuracy: 0.8355\n",
      "Epoch 22/100\n",
      "8000/8000 [==============================] - 1s 168us/step - loss: 0.3959 - accuracy: 0.8347\n",
      "Epoch 23/100\n",
      "8000/8000 [==============================] - 1s 161us/step - loss: 0.3959 - accuracy: 0.8341\n",
      "Epoch 24/100\n",
      "8000/8000 [==============================] - 1s 145us/step - loss: 0.3958 - accuracy: 0.8335\n",
      "Epoch 25/100\n",
      "8000/8000 [==============================] - 1s 149us/step - loss: 0.3955 - accuracy: 0.8342\n",
      "Epoch 26/100\n",
      "8000/8000 [==============================] - 1s 147us/step - loss: 0.3956 - accuracy: 0.8357\n",
      "Epoch 27/100\n",
      "8000/8000 [==============================] - 1s 148us/step - loss: 0.3953 - accuracy: 0.8346\n",
      "Epoch 28/100\n",
      "8000/8000 [==============================] - 1s 146us/step - loss: 0.3951 - accuracy: 0.8351\n",
      "Epoch 29/100\n",
      "8000/8000 [==============================] - 1s 147us/step - loss: 0.3950 - accuracy: 0.8344\n",
      "Epoch 30/100\n",
      "8000/8000 [==============================] - 1s 149us/step - loss: 0.3942 - accuracy: 0.8349\n",
      "Epoch 31/100\n",
      "8000/8000 [==============================] - 1s 149us/step - loss: 0.3943 - accuracy: 0.8345\n",
      "Epoch 32/100\n",
      "8000/8000 [==============================] - 2s 201us/step - loss: 0.3946 - accuracy: 0.8366\n",
      "Epoch 33/100\n",
      "8000/8000 [==============================] - 1s 185us/step - loss: 0.3943 - accuracy: 0.8357\n",
      "Epoch 34/100\n",
      "8000/8000 [==============================] - 1s 186us/step - loss: 0.3932 - accuracy: 0.8369\n",
      "Epoch 35/100\n",
      "8000/8000 [==============================] - 1s 152us/step - loss: 0.3922 - accuracy: 0.8371\n",
      "Epoch 36/100\n",
      "8000/8000 [==============================] - 1s 157us/step - loss: 0.3912 - accuracy: 0.8361\n",
      "Epoch 37/100\n",
      "8000/8000 [==============================] - 1s 158us/step - loss: 0.3900 - accuracy: 0.8395\n",
      "Epoch 38/100\n",
      "8000/8000 [==============================] - 1s 185us/step - loss: 0.3876 - accuracy: 0.8391\n",
      "Epoch 39/100\n",
      "8000/8000 [==============================] - 1s 152us/step - loss: 0.3851 - accuracy: 0.8386\n",
      "Epoch 40/100\n",
      "8000/8000 [==============================] - 1s 141us/step - loss: 0.3822 - accuracy: 0.8406\n",
      "Epoch 41/100\n",
      "8000/8000 [==============================] - 1s 137us/step - loss: 0.3792 - accuracy: 0.8420\n",
      "Epoch 42/100\n",
      "8000/8000 [==============================] - 1s 139us/step - loss: 0.3752 - accuracy: 0.8447\n",
      "Epoch 43/100\n",
      "8000/8000 [==============================] - 1s 141us/step - loss: 0.3715 - accuracy: 0.8435\n",
      "Epoch 44/100\n",
      "8000/8000 [==============================] - 1s 151us/step - loss: 0.3672 - accuracy: 0.8472\n",
      "Epoch 45/100\n",
      "8000/8000 [==============================] - 1s 142us/step - loss: 0.3634 - accuracy: 0.8487\n",
      "Epoch 46/100\n",
      "8000/8000 [==============================] - 1s 128us/step - loss: 0.3614 - accuracy: 0.8510\n",
      "Epoch 47/100\n",
      "8000/8000 [==============================] - 1s 127us/step - loss: 0.3586 - accuracy: 0.8526\n",
      "Epoch 48/100\n",
      "8000/8000 [==============================] - 1s 127us/step - loss: 0.3564 - accuracy: 0.8531\n",
      "Epoch 49/100\n",
      "8000/8000 [==============================] - 1s 141us/step - loss: 0.3555 - accuracy: 0.8533\n",
      "Epoch 50/100\n",
      "8000/8000 [==============================] - 1s 178us/step - loss: 0.3530 - accuracy: 0.8535\n",
      "Epoch 51/100\n",
      "8000/8000 [==============================] - 1s 180us/step - loss: 0.3517 - accuracy: 0.8540\n",
      "Epoch 52/100\n",
      "8000/8000 [==============================] - 1s 167us/step - loss: 0.3499 - accuracy: 0.8555\n",
      "Epoch 53/100\n",
      "8000/8000 [==============================] - 1s 173us/step - loss: 0.3507 - accuracy: 0.8564\n",
      "Epoch 54/100\n",
      "8000/8000 [==============================] - 2s 211us/step - loss: 0.3495 - accuracy: 0.8559\n",
      "Epoch 55/100\n",
      "8000/8000 [==============================] - 2s 195us/step - loss: 0.3498 - accuracy: 0.8569\n",
      "Epoch 56/100\n",
      "8000/8000 [==============================] - 1s 187us/step - loss: 0.3482 - accuracy: 0.8564\n",
      "Epoch 57/100\n",
      "8000/8000 [==============================] - 2s 194us/step - loss: 0.3485 - accuracy: 0.8589\n",
      "Epoch 58/100\n",
      "8000/8000 [==============================] - 1s 179us/step - loss: 0.3483 - accuracy: 0.8569\n",
      "Epoch 59/100\n",
      "8000/8000 [==============================] - 2s 188us/step - loss: 0.3484 - accuracy: 0.8570\n",
      "Epoch 60/100\n",
      "8000/8000 [==============================] - 2s 203us/step - loss: 0.3462 - accuracy: 0.8589\n",
      "Epoch 61/100\n",
      "8000/8000 [==============================] - 2s 199us/step - loss: 0.3469 - accuracy: 0.8584\n",
      "Epoch 62/100\n",
      "8000/8000 [==============================] - 2s 191us/step - loss: 0.3463 - accuracy: 0.8600\n",
      "Epoch 63/100\n",
      "8000/8000 [==============================] - 2s 192us/step - loss: 0.3458 - accuracy: 0.8571\n",
      "Epoch 64/100\n",
      "8000/8000 [==============================] - 2s 203us/step - loss: 0.3458 - accuracy: 0.8569\n",
      "Epoch 65/100\n",
      "8000/8000 [==============================] - 2s 199us/step - loss: 0.3468 - accuracy: 0.8577\n",
      "Epoch 66/100\n",
      "8000/8000 [==============================] - 2s 207us/step - loss: 0.3460 - accuracy: 0.8564\n",
      "Epoch 67/100\n",
      "8000/8000 [==============================] - 2s 219us/step - loss: 0.3451 - accuracy: 0.8585\n",
      "Epoch 68/100\n",
      "8000/8000 [==============================] - 1s 176us/step - loss: 0.3454 - accuracy: 0.8564\n",
      "Epoch 69/100\n",
      "8000/8000 [==============================] - 1s 165us/step - loss: 0.3458 - accuracy: 0.8576\n",
      "Epoch 70/100\n",
      "8000/8000 [==============================] - 1s 148us/step - loss: 0.3455 - accuracy: 0.8565\n",
      "Epoch 71/100\n",
      "8000/8000 [==============================] - 1s 162us/step - loss: 0.3445 - accuracy: 0.8594\n",
      "Epoch 72/100\n",
      "8000/8000 [==============================] - 1s 152us/step - loss: 0.3442 - accuracy: 0.8570\n",
      "Epoch 73/100\n",
      "8000/8000 [==============================] - 1s 153us/step - loss: 0.3454 - accuracy: 0.8581\n",
      "Epoch 74/100\n",
      "8000/8000 [==============================] - 1s 161us/step - loss: 0.3451 - accuracy: 0.8562\n",
      "Epoch 75/100\n",
      "8000/8000 [==============================] - 1s 165us/step - loss: 0.3453 - accuracy: 0.8595\n",
      "Epoch 76/100\n",
      "8000/8000 [==============================] - 1s 161us/step - loss: 0.3443 - accuracy: 0.8591\n",
      "Epoch 77/100\n",
      "8000/8000 [==============================] - 1s 171us/step - loss: 0.3442 - accuracy: 0.8596\n",
      "Epoch 78/100\n"
     ]
    },
    {
     "name": "stdout",
     "output_type": "stream",
     "text": [
      "8000/8000 [==============================] - 1s 170us/step - loss: 0.3449 - accuracy: 0.8560\n",
      "Epoch 79/100\n",
      "8000/8000 [==============================] - 1s 146us/step - loss: 0.3450 - accuracy: 0.8585\n",
      "Epoch 80/100\n",
      "8000/8000 [==============================] - 1s 141us/step - loss: 0.3432 - accuracy: 0.8594\n",
      "Epoch 81/100\n",
      "8000/8000 [==============================] - 1s 146us/step - loss: 0.3431 - accuracy: 0.8591\n",
      "Epoch 82/100\n",
      "8000/8000 [==============================] - 1s 145us/step - loss: 0.3430 - accuracy: 0.8590\n",
      "Epoch 83/100\n",
      "8000/8000 [==============================] - 1s 157us/step - loss: 0.3441 - accuracy: 0.8574\n",
      "Epoch 84/100\n",
      "8000/8000 [==============================] - 1s 146us/step - loss: 0.3439 - accuracy: 0.8602\n",
      "Epoch 85/100\n",
      "8000/8000 [==============================] - 1s 138us/step - loss: 0.3440 - accuracy: 0.8594\n",
      "Epoch 86/100\n",
      "8000/8000 [==============================] - 1s 139us/step - loss: 0.3435 - accuracy: 0.8618\n",
      "Epoch 87/100\n",
      "8000/8000 [==============================] - 1s 139us/step - loss: 0.3438 - accuracy: 0.8590\n",
      "Epoch 88/100\n",
      "8000/8000 [==============================] - 1s 141us/step - loss: 0.3439 - accuracy: 0.8585\n",
      "Epoch 89/100\n",
      "8000/8000 [==============================] - 1s 139us/step - loss: 0.3428 - accuracy: 0.8587\n",
      "Epoch 90/100\n",
      "8000/8000 [==============================] - 1s 139us/step - loss: 0.3439 - accuracy: 0.8586\n",
      "Epoch 91/100\n",
      "8000/8000 [==============================] - 1s 139us/step - loss: 0.3438 - accuracy: 0.8589\n",
      "Epoch 92/100\n",
      "8000/8000 [==============================] - 1s 139us/step - loss: 0.3431 - accuracy: 0.8581\n",
      "Epoch 93/100\n",
      "8000/8000 [==============================] - 1s 140us/step - loss: 0.3435 - accuracy: 0.8593\n",
      "Epoch 94/100\n",
      "8000/8000 [==============================] - 1s 140us/step - loss: 0.3445 - accuracy: 0.8579\n",
      "Epoch 95/100\n",
      "8000/8000 [==============================] - 1s 140us/step - loss: 0.3438 - accuracy: 0.8574\n",
      "Epoch 96/100\n",
      "8000/8000 [==============================] - 1s 140us/step - loss: 0.3434 - accuracy: 0.8584\n",
      "Epoch 97/100\n",
      "8000/8000 [==============================] - 1s 145us/step - loss: 0.3427 - accuracy: 0.8570\n",
      "Epoch 98/100\n",
      "8000/8000 [==============================] - 1s 174us/step - loss: 0.3433 - accuracy: 0.8589\n",
      "Epoch 99/100\n",
      "8000/8000 [==============================] - 2s 196us/step - loss: 0.3435 - accuracy: 0.8593\n",
      "Epoch 100/100\n",
      "8000/8000 [==============================] - 1s 168us/step - loss: 0.3435 - accuracy: 0.8584\n"
     ]
    },
    {
     "data": {
      "text/plain": [
       "<keras.callbacks.callbacks.History at 0x1c1f71444a8>"
      ]
     },
     "execution_count": 24,
     "metadata": {},
     "output_type": "execute_result"
    }
   ],
   "source": [
    "# Fitting the ANN to the Training set\n",
    "classifier.fit(X_train, y_train, batch_size = 10, nb_epoch = 100)"
   ]
  },
  {
   "cell_type": "markdown",
   "metadata": {},
   "source": [
    "Making the predictions and evaluating the model"
   ]
  },
  {
   "cell_type": "code",
   "execution_count": 25,
   "metadata": {},
   "outputs": [],
   "source": [
    "# Predicting the Test set results\n",
    "y_pred = classifier.predict(X_test)\n",
    "y_pred = (y_pred > 0.5)"
   ]
  },
  {
   "cell_type": "code",
   "execution_count": 26,
   "metadata": {},
   "outputs": [],
   "source": [
    "# Making the Confusion Matrix\n",
    "from sklearn.metrics import confusion_matrix,accuracy_score\n",
    "cm = confusion_matrix(y_test, y_pred)\n",
    "accuracy=accuracy_score(y_test,y_pred)"
   ]
  },
  {
   "cell_type": "code",
   "execution_count": 30,
   "metadata": {},
   "outputs": [
    {
     "data": {
      "text/plain": [
       "85.15"
      ]
     },
     "execution_count": 30,
     "metadata": {},
     "output_type": "execute_result"
    }
   ],
   "source": [
    "accuracy*100"
   ]
  }
 ],
 "metadata": {
  "kernelspec": {
   "display_name": "Python 3",
   "language": "python",
   "name": "python3"
  },
  "language_info": {
   "codemirror_mode": {
    "name": "ipython",
    "version": 3
   },
   "file_extension": ".py",
   "mimetype": "text/x-python",
   "name": "python",
   "nbconvert_exporter": "python",
   "pygments_lexer": "ipython3",
   "version": "3.7.3"
  }
 },
 "nbformat": 4,
 "nbformat_minor": 2
}
